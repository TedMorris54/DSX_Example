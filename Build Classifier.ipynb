{
    "cells": [
        {
            "cell_type": "markdown", 
            "metadata": {}, 
            "source": "# DSX Example: Build Classifier using Binary Logistic Regression\n### Environment\n```\nPython 2.7\nSpark 2.0\nscikit-learn 0.17\n```\n\n### History\nNotebook created 10 Feb 17"
        }, 
        {
            "cell_type": "code", 
            "outputs": [], 
            "metadata": {
                "collapsed": false
            }, 
            "source": "# Use this magik to get a list of all installed libraries and their versions\n!pip list --isolated", 
            "execution_count": null
        }, 
        {
            "cell_type": "markdown", 
            "metadata": {}, 
            "source": "## STEP 1:  Load Data\nIn the Data Preparation notebook, we built Training and Testing data sets base on the data from the UC Irvine Machine Learning Repository [ http://archive.ics.uci.edu/ml ] and saved them to Bluemix Object Store.\n<p>  Here, we load the prepared data and then use the scikit-learn Logistic Regression algorithm to build a binary classifier.  Then we do some additional work to validate and improve the model."
        }, 
        {
            "cell_type": "code", 
            "outputs": [], 
            "metadata": {
                "collapsed": true
            }, 
            "source": "import pandas as pd\nimport numpy as np", 
            "execution_count": 18
        }, 
        {
            "cell_type": "code", 
            "outputs": [], 
            "metadata": {
                "collapsed": true
            }, 
            "source": "# The code was removed by DSX for sharing.", 
            "execution_count": 3
        }, 
        {
            "cell_type": "code", 
            "outputs": [], 
            "metadata": {
                "collapsed": true
            }, 
            "source": "from io import StringIO\nimport requests\nimport json\n\n# This function accesses a file in your Object Storage. The definition contains your credentials.\n# You might want to remove those credentials before you share your notebook.\ndef get_object_storage_file(container, filename, credentials):\n    \"\"\"This functions returns a StringIO object containing\n    the file content from Bluemix Object Storage.\"\"\"\n\n    url1 = ''.join(['https://identity.open.softlayer.com', '/v3/auth/tokens'])\n    data = {'auth': {'identity': {'methods': ['password'],\n            'password': {'user': {'name': credentials['username'],'domain': {'id': credentials['domain_id']},\n            'password': credentials['password']}}}}}\n    headers1 = {'Content-Type': 'application/json'}\n    resp1 = requests.post(url=url1, data=json.dumps(data), headers=headers1)\n    resp1_body = resp1.json()\n    for e1 in resp1_body['token']['catalog']:\n        if(e1['type']=='object-store'):\n            for e2 in e1['endpoints']:\n                        if(e2['interface']=='public'and e2['region']=='dallas'):\n                            url2 = ''.join([e2['url'],'/', container, '/', filename])\n    s_subject_token = resp1.headers['x-subject-token']\n    headers2 = {'X-Auth-Token': s_subject_token, 'accept': 'application/json'}\n    resp2 = requests.get(url=url2, headers=headers2)\n    return StringIO(resp2.text)", 
            "execution_count": 5
        }, 
        {
            "cell_type": "markdown", 
            "metadata": {}, 
            "source": "### Load the Training set"
        }, 
        {
            "cell_type": "code", 
            "outputs": [
                {
                    "output_type": "execute_result", 
                    "data": {
                        "text/plain": "        age  cap_gain  cap_loss  education_num  hrs_per_week  sample_weight  \\\n0  0.005731  0.010964 -0.020042       0.194621     -0.004464      -0.076243   \n1  0.156416 -0.010777 -0.020042       0.194621     -0.279974      -0.072308   \n2 -0.007968 -0.010777 -0.020042      -0.072045     -0.004464       0.017568   \n3  0.197512 -0.010777 -0.020042      -0.205379     -0.004464       0.030523   \n4 -0.144954 -0.010777 -0.020042       0.194621     -0.004464       0.100943   \n\n   work_class_unknown  work_class_Federal_gov  work_class_Local_gov  \\\n0                   0                       0                     0   \n1                   0                       0                     0   \n2                   0                       0                     0   \n3                   0                       0                     0   \n4                   0                       0                     0   \n\n   work_class_Never_worked            ...              \\\n0                        0            ...               \n1                        0            ...               \n2                        0            ...               \n3                        0            ...               \n4                        0            ...               \n\n   native_country_Portugal  native_country_Puerto_Rico  \\\n0                        0                           0   \n1                        0                           0   \n2                        0                           0   \n3                        0                           0   \n4                        0                           0   \n\n   native_country_Scotland  native_country_South  native_country_Taiwan  \\\n0                        0                     0                      0   \n1                        0                     0                      0   \n2                        0                     0                      0   \n3                        0                     0                      0   \n4                        0                     0                      0   \n\n   native_country_Thailand  native_country_Trinadad&Tobago  \\\n0                        0                               0   \n1                        0                               0   \n2                        0                               0   \n3                        0                               0   \n4                        0                               0   \n\n   native_country_United_States  native_country_Vietnam  \\\n0                             1                       0   \n1                             1                       0   \n2                             1                       0   \n3                             1                       0   \n4                             0                       0   \n\n   native_country_Yugoslavia  \n0                          0  \n1                          0  \n2                          0  \n3                          0  \n4                          0  \n\n[5 rows x 108 columns]", 
                        "text/html": "<div>\n<table border=\"1\" class=\"dataframe\">\n  <thead>\n    <tr style=\"text-align: right;\">\n      <th></th>\n      <th>age</th>\n      <th>cap_gain</th>\n      <th>cap_loss</th>\n      <th>education_num</th>\n      <th>hrs_per_week</th>\n      <th>sample_weight</th>\n      <th>work_class_unknown</th>\n      <th>work_class_Federal_gov</th>\n      <th>work_class_Local_gov</th>\n      <th>work_class_Never_worked</th>\n      <th>...</th>\n      <th>native_country_Portugal</th>\n      <th>native_country_Puerto_Rico</th>\n      <th>native_country_Scotland</th>\n      <th>native_country_South</th>\n      <th>native_country_Taiwan</th>\n      <th>native_country_Thailand</th>\n      <th>native_country_Trinadad&amp;Tobago</th>\n      <th>native_country_United_States</th>\n      <th>native_country_Vietnam</th>\n      <th>native_country_Yugoslavia</th>\n    </tr>\n  </thead>\n  <tbody>\n    <tr>\n      <th>0</th>\n      <td>0.005731</td>\n      <td>0.010964</td>\n      <td>-0.020042</td>\n      <td>0.194621</td>\n      <td>-0.004464</td>\n      <td>-0.076243</td>\n      <td>0</td>\n      <td>0</td>\n      <td>0</td>\n      <td>0</td>\n      <td>...</td>\n      <td>0</td>\n      <td>0</td>\n      <td>0</td>\n      <td>0</td>\n      <td>0</td>\n      <td>0</td>\n      <td>0</td>\n      <td>1</td>\n      <td>0</td>\n      <td>0</td>\n    </tr>\n    <tr>\n      <th>1</th>\n      <td>0.156416</td>\n      <td>-0.010777</td>\n      <td>-0.020042</td>\n      <td>0.194621</td>\n      <td>-0.279974</td>\n      <td>-0.072308</td>\n      <td>0</td>\n      <td>0</td>\n      <td>0</td>\n      <td>0</td>\n      <td>...</td>\n      <td>0</td>\n      <td>0</td>\n      <td>0</td>\n      <td>0</td>\n      <td>0</td>\n      <td>0</td>\n      <td>0</td>\n      <td>1</td>\n      <td>0</td>\n      <td>0</td>\n    </tr>\n    <tr>\n      <th>2</th>\n      <td>-0.007968</td>\n      <td>-0.010777</td>\n      <td>-0.020042</td>\n      <td>-0.072045</td>\n      <td>-0.004464</td>\n      <td>0.017568</td>\n      <td>0</td>\n      <td>0</td>\n      <td>0</td>\n      <td>0</td>\n      <td>...</td>\n      <td>0</td>\n      <td>0</td>\n      <td>0</td>\n      <td>0</td>\n      <td>0</td>\n      <td>0</td>\n      <td>0</td>\n      <td>1</td>\n      <td>0</td>\n      <td>0</td>\n    </tr>\n    <tr>\n      <th>3</th>\n      <td>0.197512</td>\n      <td>-0.010777</td>\n      <td>-0.020042</td>\n      <td>-0.205379</td>\n      <td>-0.004464</td>\n      <td>0.030523</td>\n      <td>0</td>\n      <td>0</td>\n      <td>0</td>\n      <td>0</td>\n      <td>...</td>\n      <td>0</td>\n      <td>0</td>\n      <td>0</td>\n      <td>0</td>\n      <td>0</td>\n      <td>0</td>\n      <td>0</td>\n      <td>1</td>\n      <td>0</td>\n      <td>0</td>\n    </tr>\n    <tr>\n      <th>4</th>\n      <td>-0.144954</td>\n      <td>-0.010777</td>\n      <td>-0.020042</td>\n      <td>0.194621</td>\n      <td>-0.004464</td>\n      <td>0.100943</td>\n      <td>0</td>\n      <td>0</td>\n      <td>0</td>\n      <td>0</td>\n      <td>...</td>\n      <td>0</td>\n      <td>0</td>\n      <td>0</td>\n      <td>0</td>\n      <td>0</td>\n      <td>0</td>\n      <td>0</td>\n      <td>0</td>\n      <td>0</td>\n      <td>0</td>\n    </tr>\n  </tbody>\n</table>\n<p>5 rows \u00d7 108 columns</p>\n</div>"
                    }, 
                    "metadata": {}, 
                    "execution_count": 5
                }
            ], 
            "metadata": {
                "collapsed": false
            }, 
            "source": "df_TrainStd = pd.read_csv(get_object_storage_file('ExampleBinaryLR', 'TrainStd.csv', credentials))\ndf_TrainStd.head()", 
            "execution_count": 5
        }, 
        {
            "cell_type": "markdown", 
            "metadata": {}, 
            "source": "### Load the Test set"
        }, 
        {
            "cell_type": "code", 
            "outputs": [
                {
                    "output_type": "execute_result", 
                    "data": {
                        "text/plain": "        age  cap_gain  cap_loss  education_num  hrs_per_week  sample_weight  \\\n0 -0.188595 -0.010819 -0.023315      -0.204860     -0.004002       0.025300   \n1 -0.010513 -0.010819 -0.023315      -0.071527      0.098038      -0.067453   \n2 -0.147499 -0.010819 -0.023315       0.128473     -0.004002       0.099881   \n3  0.071679  0.066062 -0.023315      -0.004860     -0.004002      -0.019712   \n4 -0.284486 -0.010819 -0.023315      -0.004860     -0.106043      -0.058188   \n\n   work_class_unknown  work_class_Federal_gov  work_class_Local_gov  \\\n0                   0                       0                     0   \n1                   0                       0                     0   \n2                   0                       0                     1   \n3                   0                       0                     0   \n4                   1                       0                     0   \n\n   work_class_Never_worked                ...                  \\\n0                        0                ...                   \n1                        0                ...                   \n2                        0                ...                   \n3                        0                ...                   \n4                        0                ...                   \n\n   native_country_Puerto_Rico  native_country_Scotland  native_country_South  \\\n0                           0                        0                     0   \n1                           0                        0                     0   \n2                           0                        0                     0   \n3                           0                        0                     0   \n4                           0                        0                     0   \n\n   native_country_Taiwan  native_country_Thailand  \\\n0                      0                        0   \n1                      0                        0   \n2                      0                        0   \n3                      0                        0   \n4                      0                        0   \n\n   native_country_Trinadad&Tobago  native_country_United_States  \\\n0                               0                             1   \n1                               0                             1   \n2                               0                             1   \n3                               0                             1   \n4                               0                             1   \n\n   native_country_Vietnam  native_country_Yugoslavia  \\\n0                       0                          0   \n1                       0                          0   \n2                       0                          0   \n3                       0                          0   \n4                       0                          0   \n\n   native_country_Holand_Netherlands  \n0                                  0  \n1                                  0  \n2                                  0  \n3                                  0  \n4                                  0  \n\n[5 rows x 108 columns]", 
                        "text/html": "<div>\n<table border=\"1\" class=\"dataframe\">\n  <thead>\n    <tr style=\"text-align: right;\">\n      <th></th>\n      <th>age</th>\n      <th>cap_gain</th>\n      <th>cap_loss</th>\n      <th>education_num</th>\n      <th>hrs_per_week</th>\n      <th>sample_weight</th>\n      <th>work_class_unknown</th>\n      <th>work_class_Federal_gov</th>\n      <th>work_class_Local_gov</th>\n      <th>work_class_Never_worked</th>\n      <th>...</th>\n      <th>native_country_Puerto_Rico</th>\n      <th>native_country_Scotland</th>\n      <th>native_country_South</th>\n      <th>native_country_Taiwan</th>\n      <th>native_country_Thailand</th>\n      <th>native_country_Trinadad&amp;Tobago</th>\n      <th>native_country_United_States</th>\n      <th>native_country_Vietnam</th>\n      <th>native_country_Yugoslavia</th>\n      <th>native_country_Holand_Netherlands</th>\n    </tr>\n  </thead>\n  <tbody>\n    <tr>\n      <th>0</th>\n      <td>-0.188595</td>\n      <td>-0.010819</td>\n      <td>-0.023315</td>\n      <td>-0.204860</td>\n      <td>-0.004002</td>\n      <td>0.025300</td>\n      <td>0</td>\n      <td>0</td>\n      <td>0</td>\n      <td>0</td>\n      <td>...</td>\n      <td>0</td>\n      <td>0</td>\n      <td>0</td>\n      <td>0</td>\n      <td>0</td>\n      <td>0</td>\n      <td>1</td>\n      <td>0</td>\n      <td>0</td>\n      <td>0</td>\n    </tr>\n    <tr>\n      <th>1</th>\n      <td>-0.010513</td>\n      <td>-0.010819</td>\n      <td>-0.023315</td>\n      <td>-0.071527</td>\n      <td>0.098038</td>\n      <td>-0.067453</td>\n      <td>0</td>\n      <td>0</td>\n      <td>0</td>\n      <td>0</td>\n      <td>...</td>\n      <td>0</td>\n      <td>0</td>\n      <td>0</td>\n      <td>0</td>\n      <td>0</td>\n      <td>0</td>\n      <td>1</td>\n      <td>0</td>\n      <td>0</td>\n      <td>0</td>\n    </tr>\n    <tr>\n      <th>2</th>\n      <td>-0.147499</td>\n      <td>-0.010819</td>\n      <td>-0.023315</td>\n      <td>0.128473</td>\n      <td>-0.004002</td>\n      <td>0.099881</td>\n      <td>0</td>\n      <td>0</td>\n      <td>1</td>\n      <td>0</td>\n      <td>...</td>\n      <td>0</td>\n      <td>0</td>\n      <td>0</td>\n      <td>0</td>\n      <td>0</td>\n      <td>0</td>\n      <td>1</td>\n      <td>0</td>\n      <td>0</td>\n      <td>0</td>\n    </tr>\n    <tr>\n      <th>3</th>\n      <td>0.071679</td>\n      <td>0.066062</td>\n      <td>-0.023315</td>\n      <td>-0.004860</td>\n      <td>-0.004002</td>\n      <td>-0.019712</td>\n      <td>0</td>\n      <td>0</td>\n      <td>0</td>\n      <td>0</td>\n      <td>...</td>\n      <td>0</td>\n      <td>0</td>\n      <td>0</td>\n      <td>0</td>\n      <td>0</td>\n      <td>0</td>\n      <td>1</td>\n      <td>0</td>\n      <td>0</td>\n      <td>0</td>\n    </tr>\n    <tr>\n      <th>4</th>\n      <td>-0.284486</td>\n      <td>-0.010819</td>\n      <td>-0.023315</td>\n      <td>-0.004860</td>\n      <td>-0.106043</td>\n      <td>-0.058188</td>\n      <td>1</td>\n      <td>0</td>\n      <td>0</td>\n      <td>0</td>\n      <td>...</td>\n      <td>0</td>\n      <td>0</td>\n      <td>0</td>\n      <td>0</td>\n      <td>0</td>\n      <td>0</td>\n      <td>1</td>\n      <td>0</td>\n      <td>0</td>\n      <td>0</td>\n    </tr>\n  </tbody>\n</table>\n<p>5 rows \u00d7 108 columns</p>\n</div>"
                    }, 
                    "metadata": {}, 
                    "execution_count": 19
                }
            ], 
            "metadata": {
                "scrolled": true, 
                "collapsed": false
            }, 
            "source": "df_TestStd = pd.read_csv(get_object_storage_file('ExampleBinaryLR', 'TestStd.csv', credentials))\ndf_TestStd.head()", 
            "execution_count": 19
        }, 
        {
            "cell_type": "markdown", 
            "metadata": {}, 
            "source": "### Load the Training labels"
        }, 
        {
            "cell_type": "code", 
            "outputs": [
                {
                    "output_type": "execute_result", 
                    "data": {
                        "text/plain": "   gt_50K\n0       0\n1       0\n2       0\n3       0\n4       0", 
                        "text/html": "<div>\n<table border=\"1\" class=\"dataframe\">\n  <thead>\n    <tr style=\"text-align: right;\">\n      <th></th>\n      <th>gt_50K</th>\n    </tr>\n  </thead>\n  <tbody>\n    <tr>\n      <th>0</th>\n      <td>0</td>\n    </tr>\n    <tr>\n      <th>1</th>\n      <td>0</td>\n    </tr>\n    <tr>\n      <th>2</th>\n      <td>0</td>\n    </tr>\n    <tr>\n      <th>3</th>\n      <td>0</td>\n    </tr>\n    <tr>\n      <th>4</th>\n      <td>0</td>\n    </tr>\n  </tbody>\n</table>\n</div>"
                    }, 
                    "metadata": {}, 
                    "execution_count": 7
                }
            ], 
            "metadata": {
                "collapsed": false
            }, 
            "source": "df_TrainingLabels = pd.read_csv(get_object_storage_file('ExampleBinaryLR', 'TrainIncomeClassLabels.csv', credentials))\ndf_TrainingLabels.columns = [\"gt_50K\"]\ndf_TrainingLabels.head()", 
            "execution_count": 7
        }, 
        {
            "cell_type": "markdown", 
            "metadata": {}, 
            "source": "### Load the Test labels"
        }, 
        {
            "cell_type": "code", 
            "outputs": [
                {
                    "output_type": "execute_result", 
                    "data": {
                        "text/plain": "   gt_50K\n0       0\n1       0\n2       0\n3       0\n4       0", 
                        "text/html": "<div>\n<table border=\"1\" class=\"dataframe\">\n  <thead>\n    <tr style=\"text-align: right;\">\n      <th></th>\n      <th>gt_50K</th>\n    </tr>\n  </thead>\n  <tbody>\n    <tr>\n      <th>0</th>\n      <td>0</td>\n    </tr>\n    <tr>\n      <th>1</th>\n      <td>0</td>\n    </tr>\n    <tr>\n      <th>2</th>\n      <td>0</td>\n    </tr>\n    <tr>\n      <th>3</th>\n      <td>0</td>\n    </tr>\n    <tr>\n      <th>4</th>\n      <td>0</td>\n    </tr>\n  </tbody>\n</table>\n</div>"
                    }, 
                    "metadata": {}, 
                    "execution_count": 8
                }
            ], 
            "metadata": {
                "collapsed": false
            }, 
            "source": "df_TestLabels = pd.read_csv(get_object_storage_file('ExampleBinaryLR', 'TestIncomeClassLabels.csv', credentials))\ndf_TestLabels.columns = [\"gt_50K\"]\ndf_TestLabels.head()", 
            "execution_count": 8
        }, 
        {
            "cell_type": "markdown", 
            "metadata": {}, 
            "source": "## STEP 2:  Build a Logistic Regression Classifier\n"
        }, 
        {
            "cell_type": "code", 
            "outputs": [
                {
                    "text": "[LibLinear]", 
                    "output_type": "stream", 
                    "name": "stdout"
                }, 
                {
                    "output_type": "execute_result", 
                    "data": {
                        "text/plain": "LogisticRegression(C=1000.0, class_weight='balanced', dual=False,\n          fit_intercept=True, intercept_scaling=1, max_iter=100,\n          multi_class='ovr', n_jobs=1, penalty='l2', random_state=0,\n          solver='liblinear', tol=0.0001, verbose=1, warm_start=False)"
                    }, 
                    "metadata": {}, 
                    "execution_count": 9
                }
            ], 
            "metadata": {
                "collapsed": false
            }, 
            "source": "# Algorithm options:\n#    sag : stochastic average gradient\n#    liblinear : linear, good for smaller datasets\n#    lbfgs :\n#    newton-cg :\n\nfrom sklearn.linear_model import LogisticRegression\nlr = LogisticRegression(C=1000.0, solver='liblinear', class_weight='balanced', random_state=0, verbose=1 )\nlr.fit(df_TrainStd, df_TrainingLabels.gt_50K )", 
            "execution_count": 9
        }, 
        {
            "cell_type": "code", 
            "outputs": [], 
            "metadata": {
                "collapsed": false
            }, 
            "source": "# get probabilities of prediction\ndf_probs = pd.DataFrame( lr.predict_proba( df_TrainStd ))", 
            "execution_count": 10
        }, 
        {
            "cell_type": "code", 
            "outputs": [
                {
                    "output_type": "execute_result", 
                    "data": {
                        "text/plain": "          0         1\n0  0.702431  0.297569\n1  0.331099  0.668901\n2  0.920077  0.079923\n3  0.788137  0.211863\n4  0.136517  0.863483", 
                        "text/html": "<div>\n<table border=\"1\" class=\"dataframe\">\n  <thead>\n    <tr style=\"text-align: right;\">\n      <th></th>\n      <th>0</th>\n      <th>1</th>\n    </tr>\n  </thead>\n  <tbody>\n    <tr>\n      <th>0</th>\n      <td>0.702431</td>\n      <td>0.297569</td>\n    </tr>\n    <tr>\n      <th>1</th>\n      <td>0.331099</td>\n      <td>0.668901</td>\n    </tr>\n    <tr>\n      <th>2</th>\n      <td>0.920077</td>\n      <td>0.079923</td>\n    </tr>\n    <tr>\n      <th>3</th>\n      <td>0.788137</td>\n      <td>0.211863</td>\n    </tr>\n    <tr>\n      <th>4</th>\n      <td>0.136517</td>\n      <td>0.863483</td>\n    </tr>\n  </tbody>\n</table>\n</div>"
                    }, 
                    "metadata": {}, 
                    "execution_count": 11
                }
            ], 
            "metadata": {
                "collapsed": false
            }, 
            "source": "df_probs[0:5]", 
            "execution_count": 11
        }, 
        {
            "cell_type": "code", 
            "outputs": [], 
            "metadata": {
                "collapsed": false
            }, 
            "source": "df_income_class = pd.DataFrame({\"p_income_class\" : lr.predict( df_TrainStd )})", 
            "execution_count": 12
        }, 
        {
            "cell_type": "code", 
            "outputs": [
                {
                    "output_type": "execute_result", 
                    "data": {
                        "text/plain": "   p_income_class\n0               0\n1               1\n2               0\n3               0\n4               1", 
                        "text/html": "<div>\n<table border=\"1\" class=\"dataframe\">\n  <thead>\n    <tr style=\"text-align: right;\">\n      <th></th>\n      <th>p_income_class</th>\n    </tr>\n  </thead>\n  <tbody>\n    <tr>\n      <th>0</th>\n      <td>0</td>\n    </tr>\n    <tr>\n      <th>1</th>\n      <td>1</td>\n    </tr>\n    <tr>\n      <th>2</th>\n      <td>0</td>\n    </tr>\n    <tr>\n      <th>3</th>\n      <td>0</td>\n    </tr>\n    <tr>\n      <th>4</th>\n      <td>1</td>\n    </tr>\n  </tbody>\n</table>\n</div>"
                    }, 
                    "metadata": {}, 
                    "execution_count": 13
                }
            ], 
            "metadata": {
                "collapsed": false
            }, 
            "source": "df_income_class[0:5]", 
            "execution_count": 13
        }, 
        {
            "cell_type": "code", 
            "outputs": [
                {
                    "output_type": "execute_result", 
                    "data": {
                        "text/plain": "gt_50K    32561\ndtype: int64"
                    }, 
                    "metadata": {}, 
                    "execution_count": 14
                }
            ], 
            "metadata": {
                "collapsed": false
            }, 
            "source": "df_TrainingLabels.count()", 
            "execution_count": 14
        }, 
        {
            "cell_type": "code", 
            "outputs": [], 
            "metadata": {
                "collapsed": false
            }, 
            "source": "df_test_results = pd.concat([df_TrainingLabels, df_income_class.p_income_class, df_probs, ], axis=1)\ndf_test_results.columns = ['gt_50K', 'p_gt_50K', 'prob_0', 'prob_1']", 
            "execution_count": 15
        }, 
        {
            "cell_type": "code", 
            "outputs": [
                {
                    "output_type": "execute_result", 
                    "data": {
                        "text/plain": "   gt_50K  p_gt_50K    prob_0    prob_1\n0       0         0  0.702431  0.297569\n1       0         1  0.331099  0.668901\n2       0         0  0.920077  0.079923\n3       0         0  0.788137  0.211863\n4       0         1  0.136517  0.863483\n5       0         1  0.059384  0.940616\n6       0         0  0.994555  0.005445\n7       1         1  0.307821  0.692179\n8       1         1  0.030934  0.969066\n9       1         1  0.028506  0.971494", 
                        "text/html": "<div>\n<table border=\"1\" class=\"dataframe\">\n  <thead>\n    <tr style=\"text-align: right;\">\n      <th></th>\n      <th>gt_50K</th>\n      <th>p_gt_50K</th>\n      <th>prob_0</th>\n      <th>prob_1</th>\n    </tr>\n  </thead>\n  <tbody>\n    <tr>\n      <th>0</th>\n      <td>0</td>\n      <td>0</td>\n      <td>0.702431</td>\n      <td>0.297569</td>\n    </tr>\n    <tr>\n      <th>1</th>\n      <td>0</td>\n      <td>1</td>\n      <td>0.331099</td>\n      <td>0.668901</td>\n    </tr>\n    <tr>\n      <th>2</th>\n      <td>0</td>\n      <td>0</td>\n      <td>0.920077</td>\n      <td>0.079923</td>\n    </tr>\n    <tr>\n      <th>3</th>\n      <td>0</td>\n      <td>0</td>\n      <td>0.788137</td>\n      <td>0.211863</td>\n    </tr>\n    <tr>\n      <th>4</th>\n      <td>0</td>\n      <td>1</td>\n      <td>0.136517</td>\n      <td>0.863483</td>\n    </tr>\n    <tr>\n      <th>5</th>\n      <td>0</td>\n      <td>1</td>\n      <td>0.059384</td>\n      <td>0.940616</td>\n    </tr>\n    <tr>\n      <th>6</th>\n      <td>0</td>\n      <td>0</td>\n      <td>0.994555</td>\n      <td>0.005445</td>\n    </tr>\n    <tr>\n      <th>7</th>\n      <td>1</td>\n      <td>1</td>\n      <td>0.307821</td>\n      <td>0.692179</td>\n    </tr>\n    <tr>\n      <th>8</th>\n      <td>1</td>\n      <td>1</td>\n      <td>0.030934</td>\n      <td>0.969066</td>\n    </tr>\n    <tr>\n      <th>9</th>\n      <td>1</td>\n      <td>1</td>\n      <td>0.028506</td>\n      <td>0.971494</td>\n    </tr>\n  </tbody>\n</table>\n</div>"
                    }, 
                    "metadata": {}, 
                    "execution_count": 16
                }
            ], 
            "metadata": {
                "collapsed": false
            }, 
            "source": "df_test_results[0:10]", 
            "execution_count": 16
        }, 
        {
            "cell_type": "code", 
            "outputs": [], 
            "metadata": {
                "collapsed": false
            }, 
            "source": "#df_test_results[(df_test_results.gt_50K == df_test_results.p_gt_50K) & (df_test_results.gt_50K == True)]", 
            "execution_count": null
        }, 
        {
            "cell_type": "markdown", 
            "metadata": {}, 
            "source": "## STEP 3:  Construct a Confusion Matrix to see how well our classifier is working\n"
        }, 
        {
            "cell_type": "code", 
            "outputs": [
                {
                    "output_type": "execute_result", 
                    "data": {
                        "text/plain": "    Less  More\n0  19813  4907\n1   1178  6663", 
                        "text/html": "<div>\n<table border=\"1\" class=\"dataframe\">\n  <thead>\n    <tr style=\"text-align: right;\">\n      <th></th>\n      <th>Less</th>\n      <th>More</th>\n    </tr>\n  </thead>\n  <tbody>\n    <tr>\n      <th>0</th>\n      <td>19813</td>\n      <td>4907</td>\n    </tr>\n    <tr>\n      <th>1</th>\n      <td>1178</td>\n      <td>6663</td>\n    </tr>\n  </tbody>\n</table>\n</div>"
                    }, 
                    "metadata": {}, 
                    "execution_count": 81
                }
            ], 
            "metadata": {
                "collapsed": false
            }, 
            "source": "from sklearn import metrics as skm\ncm = skm.confusion_matrix(df_test_results.gt_50K, df_test_results.p_gt_50K)\ndf_cm = pd.DataFrame(cm)\ndf_cm.columns = [\"Less\",\"More\"]\ndf_cm", 
            "execution_count": 81
        }, 
        {
            "cell_type": "code", 
            "outputs": [
                {
                    "output_type": "execute_result", 
                    "data": {
                        "text/plain": "0.8524308221491969"
                    }, 
                    "metadata": {}, 
                    "execution_count": 60
                }
            ], 
            "metadata": {
                "collapsed": false
            }, 
            "source": "(23021+4735) / 32561.", 
            "execution_count": 60
        }, 
        {
            "cell_type": "code", 
            "outputs": [
                {
                    "output_type": "execute_result", 
                    "data": {
                        "text/plain": "   Total\n0  24720\n1   7841", 
                        "text/html": "<div>\n<table border=\"1\" class=\"dataframe\">\n  <thead>\n    <tr style=\"text-align: right;\">\n      <th></th>\n      <th>Total</th>\n    </tr>\n  </thead>\n  <tbody>\n    <tr>\n      <th>0</th>\n      <td>24720</td>\n    </tr>\n    <tr>\n      <th>1</th>\n      <td>7841</td>\n    </tr>\n  </tbody>\n</table>\n</div>"
                    }, 
                    "metadata": {}, 
                    "execution_count": 82
                }
            ], 
            "metadata": {
                "collapsed": false
            }, 
            "source": "df_cums = pd.DataFrame(df_cm[\"Less\"] + df_cm[\"More\"])\ndf_cums.columns = [\"Total\"]\ndf_cums", 
            "execution_count": 82
        }, 
        {
            "cell_type": "code", 
            "outputs": [], 
            "metadata": {
                "collapsed": false
            }, 
            "source": "#Convert absolute counts to percentages\ndf_cm_pct = df_cm.div(df_cums[\"Total\"], axis='rows')", 
            "execution_count": 83
        }, 
        {
            "cell_type": "markdown", 
            "metadata": {}, 
            "source": "###  Understanding the Confusion Matrix \nThe Matrix has the Actual values on the vertical axis, and the Predicted values on the horizontal.  What this tells us, then, is that our classifier got 93.1% of the less than 50K cases right, and miss-classified 6.9% of them as >50K. It classified 60.4% of the >50K cases correctly and mis-classfied 39.6% of them as <50K."
        }, 
        {
            "cell_type": "code", 
            "outputs": [
                {
                    "output_type": "execute_result", 
                    "data": {
                        "text/plain": "       Less      More\n0  0.801497  0.198503\n1  0.150236  0.849764", 
                        "text/html": "<div>\n<table border=\"1\" class=\"dataframe\">\n  <thead>\n    <tr style=\"text-align: right;\">\n      <th></th>\n      <th>Less</th>\n      <th>More</th>\n    </tr>\n  </thead>\n  <tbody>\n    <tr>\n      <th>0</th>\n      <td>0.801497</td>\n      <td>0.198503</td>\n    </tr>\n    <tr>\n      <th>1</th>\n      <td>0.150236</td>\n      <td>0.849764</td>\n    </tr>\n  </tbody>\n</table>\n</div>"
                    }, 
                    "metadata": {}, 
                    "execution_count": 84
                }
            ], 
            "metadata": {
                "collapsed": false
            }, 
            "source": "df_cm_pct", 
            "execution_count": 84
        }, 
        {
            "cell_type": "code", 
            "outputs": [], 
            "metadata": {
                "collapsed": false
            }, 
            "source": "df_cums.sum(axis=0)", 
            "execution_count": null
        }, 
        {
            "cell_type": "code", 
            "outputs": [], 
            "metadata": {
                "collapsed": false
            }, 
            "source": "df_cm_pct.sum(axis=1)", 
            "execution_count": null
        }, 
        {
            "cell_type": "markdown", 
            "metadata": {
                "collapsed": true
            }, 
            "source": "## Persist the Trained Model\nFirst we serialize it using pickle. Then we write the serialized model to Bluemix Object Store"
        }, 
        {
            "cell_type": "code", 
            "outputs": [], 
            "metadata": {
                "collapsed": true
            }, 
            "source": "import pickle\ns = pickle.dumps(lr)", 
            "execution_count": 17
        }, 
        {
            "cell_type": "code", 
            "outputs": [
                {
                    "output_type": "execute_result", 
                    "data": {
                        "text/plain": "'ccopy_reg\\n_reconstructor\\np0\\n(csklearn.linear_model.logistic\\nLogisticRegression\\np1\\nc__builtin__\\nobject\\np2\\nNtp3\\nRp4\\n(dp5\\nS\\'warm_start\\'\\np6\\nI00\\nsS\\'C\\'\\np7\\nF1000.0\\nsS\\'max_iter\\'\\np8\\nI100\\nsS\\'verbose\\'\\np9\\nI1\\nsS\\'intercept_scaling\\'\\np10\\nI1\\nsS\\'dual\\'\\np11\\nI00\\nsS\\'fit_intercept\\'\\np12\\nI01\\nsS\\'classes_\\'\\np13\\ncnumpy.core.multiarray\\n_reconstruct\\np14\\n(cnumpy\\nndarray\\np15\\n(I0\\ntp16\\nS\\'b\\'\\np17\\ntp18\\nRp19\\n(I1\\n(I2\\ntp20\\ncnumpy\\ndtype\\np21\\n(S\\'i8\\'\\np22\\nI0\\nI1\\ntp23\\nRp24\\n(I3\\nS\\'<\\'\\np25\\nNNNI-1\\nI-1\\nI0\\ntp26\\nbI00\\nS\\'\\\\x00\\\\x00\\\\x00\\\\x00\\\\x00\\\\x00\\\\x00\\\\x00\\\\x01\\\\x00\\\\x00\\\\x00\\\\x00\\\\x00\\\\x00\\\\x00\\'\\np27\\ntp28\\nbsS\\'solver\\'\\np29\\nS\\'liblinear\\'\\np30\\nsS\\'n_iter_\\'\\np31\\ng14\\n(g15\\n(I0\\ntp32\\ng17\\ntp33\\nRp34\\n(I1\\n(I1\\ntp35\\ng21\\n(S\\'i4\\'\\np36\\nI0\\nI1\\ntp37\\nRp38\\n(I3\\nS\\'<\\'\\np39\\nNNNI-1\\nI-1\\nI0\\ntp40\\nbI00\\nS\\'\\\\x0c\\\\x00\\\\x00\\\\x00\\'\\np41\\ntp42\\nbsS\\'penalty\\'\\np43\\nS\\'l2\\'\\np44\\nsS\\'multi_class\\'\\np45\\nS\\'ovr\\'\\np46\\nsS\\'random_state\\'\\np47\\nI0\\nsS\\'tol\\'\\np48\\nF0.0001\\nsS\\'n_jobs\\'\\np49\\nI1\\nsS\\'coef_\\'\\np50\\ng14\\n(g15\\n(I0\\ntp51\\ng17\\ntp52\\nRp53\\n(I1\\n(I1\\nI108\\ntp54\\ng21\\n(S\\'f8\\'\\np55\\nI0\\nI1\\ntp56\\nRp57\\n(I3\\nS\\'<\\'\\np58\\nNNNI-1\\nI-1\\nI0\\ntp59\\nbI01\\nS\\'YC\\\\xfb\\\\xeb8\\\\x87\\\\x01@]wtv\\\\x9a\\\\x1c@@\\\\xa1r\\\\xb6T7\\\\xa2\\\\x06@%P\\\\x98\\\\x03RE\\\\x13@\\\\xb9\\\\xfd\\\\xf8z\\\\xab4\\\\x0b@\\\\r\\\\xc6\\\\x8d\\\\x8c\\\\xdc\\\\xaf\\\\xef?l\\\\x99\\\\x7f7\\\\xd8\\\\x9e\\\\xf4?\\\\x101\\\\xd5r\\\\\\\\\\\\xbc\\\\xf4?J\\\\x01\\\\xab\\\\xba\\\\xf6\\\\x17\\\\xe3?\\\\xbb\\\\xb0\\\\xe0\\\\xdf,\\\\x1a\\\\x01\\\\xc0\\\\x8f\\\\xaa\\\\xa8l\\\\x9f\\\\\\'\\\\xe9?\\\\xd8\\\\xc7\\\\x13\\\\xd7`\\\\x0b\\\\xef?\\\\x14\\\\xe2Y\\\\x88=#\\\\xd8?\\\\xc9\\\\rZ\\\\xf3\\\\tT\\\\xdd?\\\\xf7\\\\x9a\\\\xc1Z\\\\xa8\\\\x88\\\\x15\\\\xc0\\\\x02\\\\x07\\\\x114\\\\xe4@\\\\xe4?A\\\\x81\\\\x8a.\\\\xc5R\\\\xd8?p\\\\x0e\\\\x88^\\\\x91\\\\xf5\\\\xdd?$\\\\xec\\\\x82\\\\xfc\\\\xb0\\\\xb2\\\\xf5?\\\\x8bvR\\\\x8a\\\\xcfP\\\\xf5?\\\\x8f\\\\xe48\\\\x96U4\\\\xe9?V\\\\x08\\\\xcc\\\\xd0\\\\x85\\\\xc4\\\\xe8?\\\\xba\\\\xab\\\\xdd?f\\\\x10\\\\xa8?N\\\\x96G]\\\\x8b-\\\\xd9?8\"\\\\xa2*\\\\xe3\\\\xbb\\\\xd5?[\\\\xf9\\\\x98\\\\xe6\\\\xb5i\\\\xe1?\\\\xf6C\\\\xc5v\\\\xb2v\\\\xde?\\\\x86O\\\\x86oU\\\\x04\\\\xd7?\\\\xa1\\\\x1a\\\\xae\\\\x8c\\\\xdc\\\\x81%\\\\xc0\\\\xff\\\\xc4\\\\x0eT\\\\x03\\\\x1d\\\\xe3?\\\\x82(\\\\x1b\\\\xc1\\\\xef\\\\x8d\\\\xe0?\\\\xed\\\\xa3\\\\xa3f\\\\x86\\\\x1e\\\\xed\\\\xbf\\\\x9f\\\\xfbW<g/\\\\x00@\\\\xbc\\\\x00e<:\\\\x16\\\\xf6?ch\\\\x1f\\\\x86%\\\\x17\\\\xed\\\\xbf\\\\x07\\\\xc6\\\\x93\\\\x92\\\\xce\\\\x82\\\\xf6\\\\xbfg\\\\xf7\\\\x05\\\\xcf\\\\xc8\\\\x14\\\\xf2\\\\xbfz!\\\\xf1\\\\xfe(v\\\\xe9\\\\xbf\\\\x9ft\\\\x83\\\\x10\\\\x03+\\\\xeb\\\\xbfDf\\\\x04\\\\xabw\\\\x12\\\\xd6?\\\\xca\\\\xdf\\\\x04\\\\xe0!\\\\xe9\\\\xf2\\\\xbf\\\\x9d\\\\x8d\\\\xe0y\\\\xfb\\\\xf0\\\\xdd?\\\\xa3,l3\\\\x93\\\\x85\\\\xf2?z\\\\xf5\\\\x0c!\\\\x00\\\\xae\\\\xe5\\\\xbf\\\\x88{\\\\x7fg\\\\xa9\\\\xd1\\\\xd1\\\\xbf\\\\xbc\\\\xaa\\\\xd0\\\\xf3\\\\xc4A\\\\xbc?i*U\\\\x81HP\\\\xdb\\\\xbf\\\\xb2G\\\\xf0\"\\\\x96r\\\\x11\\\\xc0\\\\xce\\\\x97\\\\x91\\\\xc4\\\\x16\\\\x05\\\\xee?\\\\\\\\8\\\\x9c47\\\\xa8\\\\xf0?D\\\\x04\\\\xb4A\\\\xb4O\\\\xe5?\\\\xa1\\\\xe7\\\\xa3\\\\xca\\\\xf6\\\\x1e\\\\xf0?\\\\x8d<|8~\\\\xcf\\\\xd2?\\\\xf4\\\\x00\\\\xf0\\\\xf6+y\\\\xe3\\\\xbf|\\\\xfdx\\\\xcaA\\\\xfe\\\\xa6?\\\\x8cw#<\\\\x13\\\\x88\\\\xeb\\\\xbfa9Vcx\\\\x0f\\\\xf2\\\\xbff\\\\xed\\\\x05\\\\xae\\\\x9c\\\\xa1\\\\xb8\\\\xbf\\\\x98\\\\x17\\\\\\\\.\\\\x8d\\\\xd3\\\\xec?\\\\x9d\\\\x8a9U=\\\\xf5\\\\xe6\\\\xbf (\\\\xeb\\\\x8d\\\\x94\\\\x03\\\\x88?\\\\xb9\\\\x1b\\\\xe0\\\\xa0\\\\x85y\\\\xd7\\\\xbf\\\\x81f(\\\\xe3\\\\rO\\\\xe1\\\\xbf\\\\x8b`\\\\x1d7\\\\xca?\\\\xc1\\\\xbf\\\\xf5\\\\xe5G\\\\xf6B\\\\x0b\\\\xf5\\\\xbfB\\\\x8aC\\\\xb0\\\\xd8\\\\xb4\\\\xdb\\\\xbfv)\\\\xde\\\\xfd\\\\x9e\\\\x96\\\\xcc?\\\\xcb\\\\x94\\\\x83#\\\\xe1z\\\\xf9?6\\\\x1e\\\\xda\\\\xc5\\\\x99Y\\\\xe4?c\\\\xa2\\\\xac>*\\\\xd6\\\\xdb\\\\xbf7\\\\xc9\\\\x99\\\\xa3J\\\\xc1\\\\xfe\\\\xbf:\\\\xb35bn\\\\x1f\\\\xe4?\\\\x1cA\\\\xef\\\\x10\\\\x88\\\\x94\\\\xf8\\\\xbf\\\\x03.\\\\xfb\\\\\\'v\\\\xec\\\\xc1?\\\\xc1\\\\x8b\\\\xec0m\\\\x16\\\\xde\\\\xbf\\\\x83\\\\xbcS\\\\x90\\\\xdd\\\\x10\\\\xe7?\\\\x8c\\\\x16\\\\x928:\\\\xa2\\\\xe9?=\\\\xcc\\\\x91\\\\xcf\\\\xcd\\\\x0e\\\\xe7?R\\\\xaf2\\\\x12\\\\xeb\\\\x0f\\\\xe3\\\\xbf\\\\x1evP\\\\xbd\\\\x81*\\\\xd9?\\\\xf6\\\\xb8\\\\xaf\\\\x82\\\\xf8\\\\x93\\\\xd9?3&\\\\xe5\\\\xeaQE\\\\xe8\\\\xbf\\\\xdd\\\\x90\\\\xbb\\\\x81\\\\xe1\\\\xc7\\\\xf8\\\\xbf\\\\x00\\\\x91h\\\\xab\\\\xa8\\\\xf8\\\\x87?0\"\\\\xcb\\\\xcf(\\\\x98\\\\xbe?F\\\\xec\\\\xbe\\\\x12\\\\xcc\\\\xb3\\\\xb4?\\\\xfaV{\\\\xca\\\\xcc6\\\\xd6?\\\\xfe \\\\x93\\\\xa3\\\\xbb\\\\x1c\\\\xeb?\\\\xcb\\\\x94\\\\xac\\\\xd1B\\\\x04\\\\xf2?B\\\\xa7\\\\xeag\\\\xc7l\\\\xe1?\\\\xc6*Qaq\\\\xf1\\\\xed?\\\\xbf\\\\xd1\\\\xed4C\\\\x82\\\\xcf\\\\xbf*\\\\xa3\\\\xe8\\\\x9aj:\\\\xca\\\\xbf!\\\\xf2\\\\xc6,\\\\x17K\\\\xe0\\\\xbf\\\\x81O\\\\xc2\\\\x07y!\\\\x14\\\\xc0w\\\\xaf\\\\x9f\\\\xde\\\\x90D\\\\xe5\\\\xbfiE\\\\n\\\\xfc\\\\x08\\\\xb3\\\\xe6?G\\\\xa8Z\\\\x992h\\\\xd4?\\\\xd0\\\\xbf\\\\xea\\\\xbc\\\\x94\\\\xbe\\\\xcf?J\\\\xa7{?K\\\\xe0\\\\xa1\\\\xbf\\\\xe6\\\\xc5\\\\x8a\\\\xbc\\\\xd5E\\\\xa5\\\\xbf\\\\xf4;\\\\x04 \\\\xbd\\\\xfa\\\\xdd\\\\xbfD\\\\xe5\\\\x85\\\\x04\\\\xd5\\\\x0f\\\\xd5?\\\\xf2\\\\xe2\\\\x8f \\\\xfeq\\\\xe4\\\\xbf\\\\xb9\\\\x89\\\\xf3&\\\\xfdp\\\\xc0?~\\\\xca\\\\xb6\\\\x90\\\\x12\\\\xa5\\\\xe0?\\\\x13\\\\x90\\\\xf1O\\\\x03\\\\xc0\\\\xe0\\\\xbf\\\\x98\\\\x007X\\\\xb2\\\\xc4\\\\xf5?\\'\\np60\\ntp61\\nbsS\\'intercept_\\'\\np62\\ng14\\n(g15\\n(I0\\ntp63\\ng17\\ntp64\\nRp65\\n(I1\\n(I1\\ntp66\\ng57\\nI00\\nS\\'\\\\xf0\\\\x0c]\"y\\\\xf8\\\\xfb\\\\xbf\\'\\np67\\ntp68\\nbsS\\'class_weight\\'\\np69\\nS\\'balanced\\'\\np70\\nsb.'"
                    }, 
                    "metadata": {}, 
                    "execution_count": 19
                }
            ], 
            "metadata": {
                "collapsed": false
            }, 
            "source": "s", 
            "execution_count": 19
        }, 
        {
            "cell_type": "code", 
            "outputs": [
                {
                    "output_type": "execute_result", 
                    "data": {
                        "text/plain": "LogisticRegression(C=1000.0, class_weight='balanced', dual=False,\n          fit_intercept=True, intercept_scaling=1, max_iter=100,\n          multi_class='ovr', n_jobs=1, penalty='l2', random_state=0,\n          solver='liblinear', tol=0.0001, verbose=1, warm_start=False)"
                    }, 
                    "metadata": {}, 
                    "execution_count": 22
                }
            ], 
            "metadata": {
                "collapsed": false
            }, 
            "source": "lr2 = pickle.loads(s)\nlr2", 
            "execution_count": 22
        }, 
        {
            "cell_type": "code", 
            "outputs": [], 
            "metadata": {
                "collapsed": true
            }, 
            "source": "import requests  \nimport json\n\ndef put_pickle(credentials, pickle_string, file_name):  \n    \"\"\"This function writes a pickle to Object Storage V3 \"\"\"\n    \n    url1 = ''.join(['https://identity.open.softlayer.com', '/v3/auth/tokens'])\n    data = {'auth': {'identity': {'methods': ['password'],\n            'password': {'user': {'name': credentials['username'],'domain': {'id': credentials['domain_id']},\n            'password': credentials['password']}}}}}\n    headers1 = {'Content-Type': 'application/json'}\n    resp1 = requests.post(url=url1, data=json.dumps(data), headers=headers1)\n    resp1_body = resp1.json()\n    \n    for e1 in resp1_body['token']['catalog']:\n        if(e1['type']=='object-store'):\n            for e2 in e1['endpoints']:\n                        if(e2['interface']=='public'and e2['region']=='dallas'):\n                            url2 = ''.join([e2['url'],'/', credentials['container'], '/', file_name])\n    s_subject_token = resp1.headers['x-subject-token']\n    headers2 = {'X-Auth-Token': s_subject_token, 'accept': 'text/plain'}\n    resp2 = requests.put(url=url2, headers=headers2, data = pickle_string )\n    return resp2", 
            "execution_count": 27
        }, 
        {
            "cell_type": "code", 
            "outputs": [
                {
                    "output_type": "execute_result", 
                    "data": {
                        "text/plain": "<Response [201]>"
                    }, 
                    "metadata": {}, 
                    "execution_count": 28
                }
            ], 
            "metadata": {
                "collapsed": false
            }, 
            "source": "put_pickle(credentials, s, \"logistic_regression_01.p\")", 
            "execution_count": 28
        }, 
        {
            "cell_type": "markdown", 
            "metadata": {
                "collapsed": true
            }, 
            "source": "## Use the Stored Classifier\nHere we fetch the pickle from Bluemix Object Store, reinstantiate it as a scikit-learn classifier object, and then use it to score some data"
        }, 
        {
            "cell_type": "code", 
            "outputs": [], 
            "metadata": {
                "collapsed": true
            }, 
            "source": "def get_object_pickle_file(container, filename, credentials):\n    \"\"\"This functions returns a string containing\n    the file content from Bluemix Object Storage.\"\"\"\n\n    url1 = ''.join(['https://identity.open.softlayer.com', '/v3/auth/tokens'])\n    data = {'auth': {'identity': {'methods': ['password'],\n            'password': {'user': {'name': credentials['username'],'domain': {'id': credentials['domain_id']},\n            'password': credentials['password']}}}}}\n    headers1 = {'Content-Type': 'application/json'}\n    resp1 = requests.post(url=url1, data=json.dumps(data), headers=headers1)\n    resp1_body = resp1.json()\n    for e1 in resp1_body['token']['catalog']:\n        if(e1['type']=='object-store'):\n            for e2 in e1['endpoints']:\n                        if(e2['interface']=='public'and e2['region']=='dallas'):\n                            url2 = ''.join([e2['url'],'/', container, '/', filename])\n    s_subject_token = resp1.headers['x-subject-token']\n    headers2 = {'X-Auth-Token': s_subject_token, 'accept': 'text/plain'}\n    resp2 = requests.get(url=url2, headers=headers2)\n    return resp2.text", 
            "execution_count": 9
        }, 
        {
            "cell_type": "code", 
            "outputs": [], 
            "metadata": {
                "collapsed": false
            }, 
            "source": "s2 = get_object_pickle_file('ExampleBinaryLR', 'logistic_regression_01.p', credentials)", 
            "execution_count": 10
        }, 
        {
            "cell_type": "code", 
            "outputs": [
                {
                    "output_type": "execute_result", 
                    "data": {
                        "text/plain": "LogisticRegression(C=1000.0, class_weight='balanced', dual=False,\n          fit_intercept=True, intercept_scaling=1, max_iter=100,\n          multi_class='ovr', n_jobs=1, penalty='l2', random_state=0,\n          solver='liblinear', tol=0.0001, verbose=1, warm_start=False)"
                    }, 
                    "metadata": {}, 
                    "execution_count": 15
                }
            ], 
            "metadata": {
                "collapsed": false
            }, 
            "source": "import pickle\nlr3 = pickle.loads(s2)\nlr3", 
            "execution_count": 15
        }, 
        {
            "cell_type": "code", 
            "outputs": [
                {
                    "text": "[[ 0.79356138  0.20643862]]\n", 
                    "output_type": "stream", 
                    "name": "stdout"
                }
            ], 
            "metadata": {
                "collapsed": false
            }, 
            "source": "print lr3.predict_proba(df_TestStd[1:2])", 
            "execution_count": 23
        }, 
        {
            "cell_type": "code", 
            "outputs": [], 
            "metadata": {
                "collapsed": true
            }, 
            "source": "", 
            "execution_count": null
        }
    ], 
    "nbformat": 4, 
    "metadata": {
        "kernelspec": {
            "display_name": "Python 2 with Spark 2.0", 
            "name": "python2-spark20", 
            "language": "python"
        }, 
        "language_info": {
            "mimetype": "text/x-python", 
            "version": "2.7.11", 
            "file_extension": ".py", 
            "name": "python", 
            "pygments_lexer": "ipython2", 
            "nbconvert_exporter": "python", 
            "codemirror_mode": {
                "version": 2, 
                "name": "ipython"
            }
        }
    }, 
    "nbformat_minor": 0
}