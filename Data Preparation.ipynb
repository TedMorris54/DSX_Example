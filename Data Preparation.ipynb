{
    "metadata": {
        "language_info": {
            "codemirror_mode": {
                "version": 2, 
                "name": "ipython"
            }, 
            "file_extension": ".py", 
            "nbconvert_exporter": "python", 
            "mimetype": "text/x-python", 
            "pygments_lexer": "ipython2", 
            "name": "python", 
            "version": "2.7.11"
        }, 
        "kernelspec": {
            "display_name": "Python 2 with Spark 2.0", 
            "language": "python", 
            "name": "python2-spark20"
        }
    }, 
    "nbformat": 4, 
    "cells": [
        {
            "metadata": {}, 
            "cell_type": "markdown", 
            "source": "# DSX Example: Prepare Data for Logistic Regression\n### Environment\n```\nPython 2.7\nSpark 2.0\nscikit-learn 0.17\n```\n\n### History\nNotbook moved over from DSX Example 1 project 9 Feb 17\n\n### Citation: UCI ML Repository\nLichman, M. (2013). UCI Machine Learning Repository [http://archive.ics.uci.edu/ml]. Irvine, CA: University of California, School of Information and Computer Science.  \n\n<p><p>This example uses the Adult dataset taken from the 1994 US Census database.  See: https://archive.ics.uci.edu/ml/datasets/Adult"
        }, 
        {
            "metadata": {
                "collapsed": false
            }, 
            "outputs": [
                {
                    "output_type": "stream", 
                    "text": "Babel (2.1.1)\nbackports-abc (0.4)\nbackports.shutil-get-terminal-size (1.0.0)\nbackports.ssl-match-hostname (3.4.0.2)\nbasemap (1.0.7)\nbeautifulsoup4 (4.4.1)\nbiopython (1.66)\nbitarray (0.8.1)\nbokeh (0.10.0)\nbrunel (1.1)\ncdsax-jupyter-extensions (0.1)\ncertifi (2015.11.20.1)\ncognitive-assistant (1.0.25)\nconfigparser (3.5.0)\ncycler (0.9.0)\nCython (0.23.4)\ndebtcollector (1.1.0)\ndecorator (4.0.6)\ndescartes (1.0.1)\ndill (0.2.5)\ndlaas-client (1.1.1)\nentrypoints (0.2.2)\nenum (0.4.6)\nextras (0.0.3)\nfixtures (2.0.0)\nFlask (0.10.1)\nfuncsigs (0.4)\nfunctools32 (3.2.3.post2)\nfuture (0.15.2)\nfutures (3.0.5)\ngeopy (1.11.0)\nibmdbpy (0.1.3.post6)\nip-associations-python-novaclient-ext (0.1)\nipykernel (4.3.1)\nipython (4.2.0)\nipython-genutils (0.1.0)\nipywidgets (5.1.5)\niso8601 (0.1.11)\nitsdangerous (0.24)\nJayDeBeApi (0.2.0)\nJinja2 (2.8)\nJPype1 (0.6.1)\njsonschema (2.5.1)\njupyter-client (4.2.2)\njupyter-console (4.1.1)\njupyter-core (4.1.0)\njupyter-kernel-gateway (1.0.0)\njupyter-pip (0.3)\nkeyring (5.7)\nkeystoneauth1 (2.1.0)\nlazy (1.2)\nlinecache2 (1.0.0)\nlxml (3.5.0)\nMarkupSafe (0.23)\nmatplotlib (1.5.0)\nmaven-artifact (0.1.6)\nmistune (0.7.1)\nmock (1.3.0)\nmonotonic (0.4)\nmpld3 (0.2)\nmplleaflet (0.0.5)\nmsgpack-python (0.4.6)\nMySQL-python (1.2.5)\nnbconvert (4.1.0)\nnbformat (4.0.1)\nnetaddr (0.7.18)\nnetifaces (0.10.4)\nnetworkx (1.10)\nnltk (3.1)\nnose (1.3.7)\nnotebook (4.2.0)\nnumexpr (2.4.6)\nnumpy (1.10.4)\nos-diskconfig-python-novaclient-ext (0.1.2)\nos-networksv2-python-novaclient-ext (0.25)\nos-virtual-interfacesv2-python-novaclient-ext (0.19)\noslo.config (3.1.0)\noslo.i18n (3.1.0)\noslo.serialization (2.1.0)\noslo.utils (3.2.0)\npandas (0.17.1)\npath.py (8.1.2)\npatsy (0.4.1)\npbr (1.8.1)\npexpect (4.0.1)\npickleshare (0.5)\nPillow (3.0.0)\npip (8.1.0)\npixiedust (0.38)\nprettytable (0.7.2)\nprojectnb (0.1.4)\npsycopg2 (2.5.4)\nptyprocess (0.5)\nPygments (2.0.2)\npyparsing (2.0.6)\npyproj (1.9.4)\npypyodbc (1.3.3)\npyrax (1.9.5)\npyshp (1.2.3)\npython-dateutil (2.4.2)\npython-keystoneclient (2.0.0)\npython-mimeparse (1.5.1)\npython-novaclient (2.35.0)\npython-subunit (1.2.0)\npytz (2015.7)\nPyYAML (3.11)\npyzmq (15.1.0)\nrackspace-auth-openstack (1.3)\nrackspace-novaclient (1.5)\nrax-default-network-flags-python-novaclient-ext (0.3.2)\nrax-scheduled-images-python-novaclient-ext (0.3.1)\nrepoze.lru (0.6)\nrequests (2.9.1)\nscikit-image (0.11.3)\nscikit-learn (0.17)\nscipy (0.17.0)\nsetuptools (27.3.0)\nsilpa-common (0.3)\nsimplegeneric (0.8.1)\nsimplejson (3.8.1)\nsingledispatch (3.4.0.3)\nsix (1.10.0)\nsklearn-pipeline (0.1.93)\nsoundex (1.1.3)\nstatsmodels (0.6.1)\nstevedore (1.10.0)\nsympy (0.7.6.1)\nterminado (0.5)\ntestrepository (0.0.20)\ntesttools (2.1.0)\ntornado (4.3)\ntraceback2 (1.4.0)\ntraitlets (4.2.1)\nunittest2 (1.1.0)\nurllib3 (1.14)\nWerkzeug (0.11.2)\nwidgetsnbextension (1.2.3)\nwrapt (1.10.6)\n\u001b[33mYou are using pip version 8.1.0, however version 9.0.1 is available.\nYou should consider upgrading via the 'pip install --upgrade pip' command.\u001b[0m\n", 
                    "name": "stdout"
                }
            ], 
            "cell_type": "code", 
            "execution_count": 1, 
            "source": "# Use this magik to get a list of all installed libraries and their versions\n!pip list --isolated"
        }, 
        {
            "metadata": {}, 
            "cell_type": "markdown", 
            "source": "## STEP 1:  Import Data\nWe're going to use data from the UC Irvine Machine Learning Repository [ http://archive.ics.uci.edu/ml ].  The data consists of a sample from the 1994 US Census, with the target variable being whether the individual earned more or less than $50,000 per year.  Between the training set and the test set, there are a little over 48,800 cases.  Most of the columns are self explanatory, but three may be unfamiliar:\n```\ncap_gain : capital gains from personal investments\ncap_loss : capital losses from personal investments\nfnlwgt   : sampling weight assigned by the US Census\n```"
        }, 
        {
            "metadata": {
                "collapsed": true
            }, 
            "outputs": [], 
            "cell_type": "code", 
            "execution_count": 2, 
            "source": "import pandas as pd\nimport numpy as np"
        }, 
        {
            "metadata": {
                "collapsed": true
            }, 
            "outputs": [], 
            "cell_type": "code", 
            "execution_count": 3, 
            "source": "new_header = ['age','work_class','fnlwgt','education','education_num',\n             'marital_status','occupation','relationship','race','sex',\n             'cap_gain','cap_loss','hrs_per_week',\n             'native_country','income_class']"
        }, 
        {
            "metadata": {
                "collapsed": false
            }, 
            "outputs": [], 
            "cell_type": "code", 
            "execution_count": 4, 
            "source": "dfTrain = pd.read_csv('https://archive.ics.uci.edu/ml/machine-learning-databases/adult/adult.data', header=None, names=new_header)\ndfTest  = pd.read_csv('https://archive.ics.uci.edu/ml/machine-learning-databases/adult/adult.test', header=None, names=new_header)"
        }, 
        {
            "metadata": {
                "collapsed": false
            }, 
            "outputs": [
                {
                    "output_type": "stream", 
                    "text": "48843\n", 
                    "name": "stdout"
                }
            ], 
            "cell_type": "code", 
            "execution_count": 5, 
            "source": "# The UCIMLR reports 48842 rows in the data set, we have an extra ...\nrowsTrain = dfTrain['age'].count()\nrowsTest = dfTest['age'].count()\nprint rowsTrain + rowsTest"
        }, 
        {
            "metadata": {
                "collapsed": false
            }, 
            "outputs": [
                {
                    "metadata": {}, 
                    "output_type": "execute_result", 
                    "execution_count": 6, 
                    "data": {
                        "text/plain": "                    age  work_class  fnlwgt      education  education_num  \\\n0  |1x3 Cross validator         NaN     NaN            NaN            NaN   \n1                    25     Private  226802           11th              7   \n2                    38     Private   89814        HS-grad              9   \n3                    28   Local-gov  336951     Assoc-acdm             12   \n4                    44     Private  160323   Some-college             10   \n\n        marital_status          occupation relationship    race    sex  \\\n0                  NaN                 NaN          NaN     NaN    NaN   \n1        Never-married   Machine-op-inspct    Own-child   Black   Male   \n2   Married-civ-spouse     Farming-fishing      Husband   White   Male   \n3   Married-civ-spouse     Protective-serv      Husband   White   Male   \n4   Married-civ-spouse   Machine-op-inspct      Husband   Black   Male   \n\n   cap_gain  cap_loss  hrs_per_week  native_country income_class  \n0       NaN       NaN           NaN             NaN          NaN  \n1         0         0            40   United-States       <=50K.  \n2         0         0            50   United-States       <=50K.  \n3         0         0            40   United-States        >50K.  \n4      7688         0            40   United-States        >50K.  ", 
                        "text/html": "<div>\n<table border=\"1\" class=\"dataframe\">\n  <thead>\n    <tr style=\"text-align: right;\">\n      <th></th>\n      <th>age</th>\n      <th>work_class</th>\n      <th>fnlwgt</th>\n      <th>education</th>\n      <th>education_num</th>\n      <th>marital_status</th>\n      <th>occupation</th>\n      <th>relationship</th>\n      <th>race</th>\n      <th>sex</th>\n      <th>cap_gain</th>\n      <th>cap_loss</th>\n      <th>hrs_per_week</th>\n      <th>native_country</th>\n      <th>income_class</th>\n    </tr>\n  </thead>\n  <tbody>\n    <tr>\n      <th>0</th>\n      <td>|1x3 Cross validator</td>\n      <td>NaN</td>\n      <td>NaN</td>\n      <td>NaN</td>\n      <td>NaN</td>\n      <td>NaN</td>\n      <td>NaN</td>\n      <td>NaN</td>\n      <td>NaN</td>\n      <td>NaN</td>\n      <td>NaN</td>\n      <td>NaN</td>\n      <td>NaN</td>\n      <td>NaN</td>\n      <td>NaN</td>\n    </tr>\n    <tr>\n      <th>1</th>\n      <td>25</td>\n      <td>Private</td>\n      <td>226802</td>\n      <td>11th</td>\n      <td>7</td>\n      <td>Never-married</td>\n      <td>Machine-op-inspct</td>\n      <td>Own-child</td>\n      <td>Black</td>\n      <td>Male</td>\n      <td>0</td>\n      <td>0</td>\n      <td>40</td>\n      <td>United-States</td>\n      <td>&lt;=50K.</td>\n    </tr>\n    <tr>\n      <th>2</th>\n      <td>38</td>\n      <td>Private</td>\n      <td>89814</td>\n      <td>HS-grad</td>\n      <td>9</td>\n      <td>Married-civ-spouse</td>\n      <td>Farming-fishing</td>\n      <td>Husband</td>\n      <td>White</td>\n      <td>Male</td>\n      <td>0</td>\n      <td>0</td>\n      <td>50</td>\n      <td>United-States</td>\n      <td>&lt;=50K.</td>\n    </tr>\n    <tr>\n      <th>3</th>\n      <td>28</td>\n      <td>Local-gov</td>\n      <td>336951</td>\n      <td>Assoc-acdm</td>\n      <td>12</td>\n      <td>Married-civ-spouse</td>\n      <td>Protective-serv</td>\n      <td>Husband</td>\n      <td>White</td>\n      <td>Male</td>\n      <td>0</td>\n      <td>0</td>\n      <td>40</td>\n      <td>United-States</td>\n      <td>&gt;50K.</td>\n    </tr>\n    <tr>\n      <th>4</th>\n      <td>44</td>\n      <td>Private</td>\n      <td>160323</td>\n      <td>Some-college</td>\n      <td>10</td>\n      <td>Married-civ-spouse</td>\n      <td>Machine-op-inspct</td>\n      <td>Husband</td>\n      <td>Black</td>\n      <td>Male</td>\n      <td>7688</td>\n      <td>0</td>\n      <td>40</td>\n      <td>United-States</td>\n      <td>&gt;50K.</td>\n    </tr>\n  </tbody>\n</table>\n</div>"
                    }
                }
            ], 
            "cell_type": "code", 
            "execution_count": 6, 
            "source": "# Aha! the first row in the Test set isn't a row.  We need to skip it, or remove it\ndfTest[0:5]"
        }, 
        {
            "metadata": {
                "collapsed": false
            }, 
            "outputs": [], 
            "cell_type": "code", 
            "execution_count": 7, 
            "source": "dfTest = dfTest.drop(dfTest.index[0])\n#Re-index from 0!\ndfTest = dfTest.reset_index()"
        }, 
        {
            "metadata": {
                "collapsed": false
            }, 
            "outputs": [
                {
                    "metadata": {}, 
                    "output_type": "execute_result", 
                    "execution_count": 8, 
                    "data": {
                        "text/plain": "48842"
                    }
                }
            ], 
            "cell_type": "code", 
            "execution_count": 8, 
            "source": "# This shows that we now have the number of expected rows, as documented in the UCI repository\ndfTest['age'].count() + rowsTrain"
        }, 
        {
            "metadata": {}, 
            "cell_type": "markdown", 
            "source": "## STEP 2:  Explore the data\nLet's look at the values in the data set and the distributions of those values.  We'll also look for missing values to get some sense of the data quality"
        }, 
        {
            "metadata": {}, 
            "cell_type": "markdown", 
            "source": "### Look at the distribution of continuous values"
        }, 
        {
            "metadata": {
                "collapsed": false
            }, 
            "outputs": [
                {
                    "metadata": {}, 
                    "output_type": "execute_result", 
                    "execution_count": 9, 
                    "data": {
                        "text/plain": "                age          fnlwgt  education_num      cap_gain  \\\ncount  32561.000000    32561.000000   32561.000000  32561.000000   \nmean      38.581647   189778.366512      10.080679   1077.648844   \nstd       13.640433   105549.977697       2.572720   7385.292085   \nmin       17.000000    12285.000000       1.000000      0.000000   \n25%       28.000000   117827.000000       9.000000      0.000000   \n50%       37.000000   178356.000000      10.000000      0.000000   \n75%       48.000000   237051.000000      12.000000      0.000000   \nmax       90.000000  1484705.000000      16.000000  99999.000000   \n\n           cap_loss  hrs_per_week  \ncount  32561.000000  32561.000000  \nmean      87.303830     40.437456  \nstd      402.960219     12.347429  \nmin        0.000000      1.000000  \n25%        0.000000     40.000000  \n50%        0.000000     40.000000  \n75%        0.000000     45.000000  \nmax     4356.000000     99.000000  ", 
                        "text/html": "<div>\n<table border=\"1\" class=\"dataframe\">\n  <thead>\n    <tr style=\"text-align: right;\">\n      <th></th>\n      <th>age</th>\n      <th>fnlwgt</th>\n      <th>education_num</th>\n      <th>cap_gain</th>\n      <th>cap_loss</th>\n      <th>hrs_per_week</th>\n    </tr>\n  </thead>\n  <tbody>\n    <tr>\n      <th>count</th>\n      <td>32561.000000</td>\n      <td>32561.000000</td>\n      <td>32561.000000</td>\n      <td>32561.000000</td>\n      <td>32561.000000</td>\n      <td>32561.000000</td>\n    </tr>\n    <tr>\n      <th>mean</th>\n      <td>38.581647</td>\n      <td>189778.366512</td>\n      <td>10.080679</td>\n      <td>1077.648844</td>\n      <td>87.303830</td>\n      <td>40.437456</td>\n    </tr>\n    <tr>\n      <th>std</th>\n      <td>13.640433</td>\n      <td>105549.977697</td>\n      <td>2.572720</td>\n      <td>7385.292085</td>\n      <td>402.960219</td>\n      <td>12.347429</td>\n    </tr>\n    <tr>\n      <th>min</th>\n      <td>17.000000</td>\n      <td>12285.000000</td>\n      <td>1.000000</td>\n      <td>0.000000</td>\n      <td>0.000000</td>\n      <td>1.000000</td>\n    </tr>\n    <tr>\n      <th>25%</th>\n      <td>28.000000</td>\n      <td>117827.000000</td>\n      <td>9.000000</td>\n      <td>0.000000</td>\n      <td>0.000000</td>\n      <td>40.000000</td>\n    </tr>\n    <tr>\n      <th>50%</th>\n      <td>37.000000</td>\n      <td>178356.000000</td>\n      <td>10.000000</td>\n      <td>0.000000</td>\n      <td>0.000000</td>\n      <td>40.000000</td>\n    </tr>\n    <tr>\n      <th>75%</th>\n      <td>48.000000</td>\n      <td>237051.000000</td>\n      <td>12.000000</td>\n      <td>0.000000</td>\n      <td>0.000000</td>\n      <td>45.000000</td>\n    </tr>\n    <tr>\n      <th>max</th>\n      <td>90.000000</td>\n      <td>1484705.000000</td>\n      <td>16.000000</td>\n      <td>99999.000000</td>\n      <td>4356.000000</td>\n      <td>99.000000</td>\n    </tr>\n  </tbody>\n</table>\n</div>"
                    }
                }
            ], 
            "cell_type": "code", 
            "execution_count": 9, 
            "source": "dfTrain.describe()"
        }, 
        {
            "metadata": {}, 
            "cell_type": "markdown", 
            "source": "### Look at the unique values of the categorical attributes"
        }, 
        {
            "metadata": {
                "collapsed": false
            }, 
            "outputs": [], 
            "cell_type": "code", 
            "execution_count": 10, 
            "source": "work_class_vals = dfTrain['work_class'].unique()\neducation_vals = dfTrain['education'].unique()\nmarital_status_vals = dfTrain['marital_status'].unique()\noccupation_vals = dfTrain['occupation'].unique()\nrelationship_vals = dfTrain['relationship'].unique()\nrace_vals = dfTrain['race'].unique()\nsex_vals = dfTrain['sex'].unique()\nnative_country_vals = dfTrain['native_country'].unique()\nincome_class_vals = dfTrain['income_class'].unique()"
        }, 
        {
            "metadata": {
                "collapsed": false
            }, 
            "outputs": [
                {
                    "output_type": "stream", 
                    "text": "[' State-gov' ' Self-emp-not-inc' ' Private' ' Federal-gov' ' Local-gov'\n ' ?' ' Self-emp-inc' ' Without-pay' ' Never-worked']\n[' Bachelors' ' HS-grad' ' 11th' ' Masters' ' 9th' ' Some-college'\n ' Assoc-acdm' ' Assoc-voc' ' 7th-8th' ' Doctorate' ' Prof-school'\n ' 5th-6th' ' 10th' ' 1st-4th' ' Preschool' ' 12th']\n[' Never-married' ' Married-civ-spouse' ' Divorced'\n ' Married-spouse-absent' ' Separated' ' Married-AF-spouse' ' Widowed']\n[' Adm-clerical' ' Exec-managerial' ' Handlers-cleaners' ' Prof-specialty'\n ' Other-service' ' Sales' ' Craft-repair' ' Transport-moving'\n ' Farming-fishing' ' Machine-op-inspct' ' Tech-support' ' ?'\n ' Protective-serv' ' Armed-Forces' ' Priv-house-serv']\n[' Not-in-family' ' Husband' ' Wife' ' Own-child' ' Unmarried'\n ' Other-relative']\n[' White' ' Black' ' Asian-Pac-Islander' ' Amer-Indian-Eskimo' ' Other']\n[' Male' ' Female']\n[' United-States' ' Cuba' ' Jamaica' ' India' ' ?' ' Mexico' ' South'\n ' Puerto-Rico' ' Honduras' ' England' ' Canada' ' Germany' ' Iran'\n ' Philippines' ' Italy' ' Poland' ' Columbia' ' Cambodia' ' Thailand'\n ' Ecuador' ' Laos' ' Taiwan' ' Haiti' ' Portugal' ' Dominican-Republic'\n ' El-Salvador' ' France' ' Guatemala' ' China' ' Japan' ' Yugoslavia'\n ' Peru' ' Outlying-US(Guam-USVI-etc)' ' Scotland' ' Trinadad&Tobago'\n ' Greece' ' Nicaragua' ' Vietnam' ' Hong' ' Ireland' ' Hungary'\n ' Holand-Netherlands']\n[' <=50K' ' >50K']\n", 
                    "name": "stdout"
                }
            ], 
            "cell_type": "code", 
            "execution_count": 11, 
            "source": "print work_class_vals\nprint education_vals\nprint marital_status_vals\nprint occupation_vals\nprint relationship_vals\nprint race_vals\nprint sex_vals\nprint native_country_vals\nprint income_class_vals"
        }, 
        {
            "metadata": {}, 
            "cell_type": "markdown", 
            "source": "### Check for missing data / nulls"
        }, 
        {
            "metadata": {
                "collapsed": false
            }, 
            "outputs": [
                {
                    "output_type": "stream", 
                    "text": "<class 'pandas.core.frame.DataFrame'>\nInt64Index: 32561 entries, 0 to 32560\nData columns (total 15 columns):\nage               32561 non-null int64\nwork_class        32561 non-null object\nfnlwgt            32561 non-null int64\neducation         32561 non-null object\neducation_num     32561 non-null int64\nmarital_status    32561 non-null object\noccupation        32561 non-null object\nrelationship      32561 non-null object\nrace              32561 non-null object\nsex               32561 non-null object\ncap_gain          32561 non-null int64\ncap_loss          32561 non-null int64\nhrs_per_week      32561 non-null int64\nnative_country    32561 non-null object\nincome_class      32561 non-null object\ndtypes: int64(6), object(9)\nmemory usage: 4.0+ MB\n", 
                    "name": "stdout"
                }
            ], 
            "cell_type": "code", 
            "execution_count": 12, 
            "source": "dfTrain.info()"
        }, 
        {
            "metadata": {
                "collapsed": false
            }, 
            "outputs": [
                {
                    "output_type": "stream", 
                    "text": "<class 'pandas.core.frame.DataFrame'>\nInt64Index: 16281 entries, 0 to 16280\nData columns (total 16 columns):\nindex             16281 non-null int64\nage               16281 non-null object\nwork_class        16281 non-null object\nfnlwgt            16281 non-null float64\neducation         16281 non-null object\neducation_num     16281 non-null float64\nmarital_status    16281 non-null object\noccupation        16281 non-null object\nrelationship      16281 non-null object\nrace              16281 non-null object\nsex               16281 non-null object\ncap_gain          16281 non-null float64\ncap_loss          16281 non-null float64\nhrs_per_week      16281 non-null float64\nnative_country    16281 non-null object\nincome_class      16281 non-null object\ndtypes: float64(5), int64(1), object(10)\nmemory usage: 2.1+ MB\n", 
                    "name": "stdout"
                }
            ], 
            "cell_type": "code", 
            "execution_count": 13, 
            "source": "dfTest.info()"
        }, 
        {
            "metadata": {}, 
            "cell_type": "markdown", 
            "source": "###  Analysis of Categorical Values\nIt's useful to know the various values each categorical attribute takes, and the distribution of each of those values in the column"
        }, 
        {
            "metadata": {
                "collapsed": true
            }, 
            "outputs": [], 
            "cell_type": "code", 
            "execution_count": 14, 
            "source": "work_class_counts = dfTrain['work_class'].value_counts()\neducation_counts = dfTrain['education'].value_counts()\nmarital_status_counts = dfTrain['marital_status'].value_counts()\noccupation_counts = dfTrain['occupation'].value_counts()\nrelationship_counts = dfTrain['relationship'].value_counts()\nrace_counts = dfTrain['race'].value_counts()\nsex_counts = dfTrain['sex'].value_counts()\nnative_country_counts = dfTrain['native_country'].value_counts()\nincome_class_counts = dfTrain['income_class'].value_counts()"
        }, 
        {
            "metadata": {
                "collapsed": false
            }, 
            "outputs": [
                {
                    "output_type": "stream", 
                    "text": " Private             22696\n Self-emp-not-inc     2541\n Local-gov            2093\n ?                    1836\n State-gov            1298\n Self-emp-inc         1116\n Federal-gov           960\n Without-pay            14\n Never-worked            7\nName: work_class, dtype: int64\n\n HS-grad         10501\n Some-college     7291\n Bachelors        5355\n Masters          1723\n Assoc-voc        1382\n 11th             1175\n Assoc-acdm       1067\n 10th              933\n 7th-8th           646\n Prof-school       576\n 9th               514\n 12th              433\n Doctorate         413\n 5th-6th           333\n 1st-4th           168\n Preschool          51\nName: education, dtype: int64\n\n Married-civ-spouse       14976\n Never-married            10683\n Divorced                  4443\n Separated                 1025\n Widowed                    993\n Married-spouse-absent      418\n Married-AF-spouse           23\nName: marital_status, dtype: int64\n\n Prof-specialty       4140\n Craft-repair         4099\n Exec-managerial      4066\n Adm-clerical         3770\n Sales                3650\n Other-service        3295\n Machine-op-inspct    2002\n ?                    1843\n Transport-moving     1597\n Handlers-cleaners    1370\n Farming-fishing       994\n Tech-support          928\n Protective-serv       649\n Priv-house-serv       149\n Armed-Forces            9\nName: occupation, dtype: int64\n\n Husband           13193\n Not-in-family      8305\n Own-child          5068\n Unmarried          3446\n Wife               1568\n Other-relative      981\nName: relationship, dtype: int64\n\n White                 27816\n Black                  3124\n Asian-Pac-Islander     1039\n Amer-Indian-Eskimo      311\n Other                   271\nName: race, dtype: int64\n\n Male      21790\n Female    10771\nName: sex, dtype: int64\n\n United-States                 29170\n Mexico                          643\n ?                               583\n Philippines                     198\n Germany                         137\n Canada                          121\n Puerto-Rico                     114\n El-Salvador                     106\n India                           100\n Cuba                             95\n England                          90\n Jamaica                          81\n South                            80\n China                            75\n Italy                            73\n Dominican-Republic               70\n Vietnam                          67\n Guatemala                        64\n Japan                            62\n Poland                           60\n Columbia                         59\n Taiwan                           51\n Haiti                            44\n Iran                             43\n Portugal                         37\n Nicaragua                        34\n Peru                             31\n Greece                           29\n France                           29\n Ecuador                          28\n Ireland                          24\n Hong                             20\n Trinadad&Tobago                  19\n Cambodia                         19\n Laos                             18\n Thailand                         18\n Yugoslavia                       16\n Outlying-US(Guam-USVI-etc)       14\n Honduras                         13\n Hungary                          13\n Scotland                         12\n Holand-Netherlands                1\nName: native_country, dtype: int64\n\n <=50K    24720\n >50K      7841\nName: income_class, dtype: int64\n", 
                    "name": "stdout"
                }
            ], 
            "cell_type": "code", 
            "execution_count": 15, 
            "source": "print work_class_counts\nprint ''\nprint education_counts\nprint ''\nprint marital_status_counts\nprint ''\nprint occupation_counts\nprint ''\nprint relationship_counts\nprint ''\nprint race_counts\nprint ''\nprint sex_counts\nprint ''\nprint native_country_counts\nprint ''\nprint income_class_counts"
        }, 
        {
            "metadata": {
                "collapsed": false
            }, 
            "outputs": [
                {
                    "metadata": {}, 
                    "output_type": "execute_result", 
                    "execution_count": 16, 
                    "data": {
                        "text/plain": "<matplotlib.axes._subplots.AxesSubplot at 0x7f6777a06910>"
                    }
                }, 
                {
                    "metadata": {}, 
                    "output_type": "display_data", 
                    "data": {
                        "text/plain": "<matplotlib.figure.Figure at 0x7f67779f7710>", 
                        "image/png": "[encoded data removed]"
                    }
                }
            ], 
            "cell_type": "code", 
            "execution_count": 16, 
            "source": "%matplotlib inline\nwork_class_counts.plot('barh')"
        }, 
        {
            "metadata": {
                "collapsed": false
            }, 
            "outputs": [
                {
                    "metadata": {}, 
                    "output_type": "execute_result", 
                    "execution_count": 17, 
                    "data": {
                        "text/plain": "<matplotlib.axes._subplots.AxesSubplot at 0x7f67732d22d0>"
                    }
                }, 
                {
                    "metadata": {}, 
                    "output_type": "display_data", 
                    "data": {
                        "text/plain": "<matplotlib.figure.Figure at 0x7f6773311750>", 
                        "image/png": "[encoded data removed]"
                    }
                }
            ], 
            "cell_type": "code", 
            "execution_count": 17, 
            "source": "occupation_counts.plot('barh')\n#relationship_counts.plot('kde')"
        }, 
        {
            "metadata": {}, 
            "cell_type": "markdown", 
            "source": "## STEP 3: Prepare data sets for Logistic Regression\nThere're a couple of characteristics of logistic regression that we need to consider when preparing data.\n<p>(1) Are we predicting a binary class, or are we predicting one of multiple classes?\n<p>(2) What types of input are we using (categorical, ordinal, numeric).  \n<p>(3) Do we need to deal with missing data?\n\n"
        }, 
        {
            "metadata": {
                "collapsed": false
            }, 
            "outputs": [
                {
                    "metadata": {}, 
                    "output_type": "execute_result", 
                    "execution_count": 18, 
                    "data": {
                        "text/plain": "   age         work_class  fnlwgt   education  education_num  \\\n0   39          State-gov   77516   Bachelors             13   \n1   50   Self-emp-not-inc   83311   Bachelors             13   \n\n        marital_status        occupation    relationship    race    sex  \\\n0        Never-married      Adm-clerical   Not-in-family   White   Male   \n1   Married-civ-spouse   Exec-managerial         Husband   White   Male   \n\n   cap_gain  cap_loss  hrs_per_week  native_country income_class  \n0      2174         0            40   United-States        <=50K  \n1         0         0            13   United-States        <=50K  ", 
                        "text/html": "<div>\n<table border=\"1\" class=\"dataframe\">\n  <thead>\n    <tr style=\"text-align: right;\">\n      <th></th>\n      <th>age</th>\n      <th>work_class</th>\n      <th>fnlwgt</th>\n      <th>education</th>\n      <th>education_num</th>\n      <th>marital_status</th>\n      <th>occupation</th>\n      <th>relationship</th>\n      <th>race</th>\n      <th>sex</th>\n      <th>cap_gain</th>\n      <th>cap_loss</th>\n      <th>hrs_per_week</th>\n      <th>native_country</th>\n      <th>income_class</th>\n    </tr>\n  </thead>\n  <tbody>\n    <tr>\n      <th>0</th>\n      <td>39</td>\n      <td>State-gov</td>\n      <td>77516</td>\n      <td>Bachelors</td>\n      <td>13</td>\n      <td>Never-married</td>\n      <td>Adm-clerical</td>\n      <td>Not-in-family</td>\n      <td>White</td>\n      <td>Male</td>\n      <td>2174</td>\n      <td>0</td>\n      <td>40</td>\n      <td>United-States</td>\n      <td>&lt;=50K</td>\n    </tr>\n    <tr>\n      <th>1</th>\n      <td>50</td>\n      <td>Self-emp-not-inc</td>\n      <td>83311</td>\n      <td>Bachelors</td>\n      <td>13</td>\n      <td>Married-civ-spouse</td>\n      <td>Exec-managerial</td>\n      <td>Husband</td>\n      <td>White</td>\n      <td>Male</td>\n      <td>0</td>\n      <td>0</td>\n      <td>13</td>\n      <td>United-States</td>\n      <td>&lt;=50K</td>\n    </tr>\n  </tbody>\n</table>\n</div>"
                    }
                }
            ], 
            "cell_type": "code", 
            "execution_count": 18, 
            "source": "dfTrain[0:2]"
        }, 
        {
            "metadata": {}, 
            "cell_type": "markdown", 
            "source": "### Standardize the continuous variables and convert categoricals to one-hot encoding"
        }, 
        {
            "metadata": {
                "collapsed": true
            }, 
            "outputs": [], 
            "cell_type": "code", 
            "execution_count": 19, 
            "source": "# Standardization\ndfTrainContinuous = pd.DataFrame({'age'    : np.float64(dfTrain.age), \n                                  'cap_loss' : np.float64(dfTrain.cap_loss), \n                                  'cap_gain' : np.float64(dfTrain.cap_gain), \n                                  'education_num' : np.float64(dfTrain.education_num), \n                                  'hrs_per_week'  : np.float64(dfTrain.hrs_per_week),\n                                  'sample_weight' : np.float64(dfTrain.fnlwgt)})\n\ndfTrainContinuousStd = dfTrainContinuous.apply(lambda x: (x - np.mean(x)) / ((np.max(x) - np.min(x))))"
        }, 
        {
            "metadata": {
                "collapsed": true
            }, 
            "outputs": [], 
            "cell_type": "code", 
            "execution_count": 20, 
            "source": "# One-hot encoding\ndfTrainCategoricalStd = pd.get_dummies(pd.concat([dfTrain.work_class, dfTrain.education, \n                                                  dfTrain.marital_status, dfTrain.occupation, \n                                                  dfTrain.relationship, dfTrain.race, dfTrain.sex,\n                                                  dfTrain.native_country], axis=1))\n\n"
        }, 
        {
            "metadata": {
                "collapsed": false
            }, 
            "outputs": [], 
            "cell_type": "code", 
            "execution_count": 21, 
            "source": "#Clean up column names\ndef clean_col_names( list_of_names ):\n    new_list = []\n    for name in list_of_names:\n        res = name.replace(\" \",\"\")\n        res = res.replace(\"-\", \"_\")\n        res = res.replace(\"(\", \"_\")\n        res = res.replace(\")\",\"_\")\n        res = res.replace(\"?\", \"unknown\")\n        new_list.append(res)\n    return new_list\n                          \n\ndfTrainCategoricalStd.columns = clean_col_names(list(dfTrainCategoricalStd))"
        }, 
        {
            "metadata": {}, 
            "cell_type": "markdown", 
            "source": "### Construct the Training Data Dataframe"
        }, 
        {
            "metadata": {
                "collapsed": false
            }, 
            "outputs": [
                {
                    "metadata": {}, 
                    "output_type": "execute_result", 
                    "execution_count": 22, 
                    "data": {
                        "text/plain": "        age  cap_gain  cap_loss  education_num  hrs_per_week  sample_weight  \\\n0  0.005731  0.010964 -0.020042       0.194621     -0.004464      -0.076243   \n1  0.156416 -0.010777 -0.020042       0.194621     -0.279974      -0.072308   \n2 -0.007968 -0.010777 -0.020042      -0.072045     -0.004464       0.017568   \n3  0.197512 -0.010777 -0.020042      -0.205379     -0.004464       0.030523   \n4 -0.144954 -0.010777 -0.020042       0.194621     -0.004464       0.100943   \n5 -0.021666 -0.010777 -0.020042       0.261288     -0.004464       0.064386   \n6  0.142717 -0.010777 -0.020042      -0.338712     -0.249362      -0.020097   \n7  0.183813 -0.010777 -0.020042      -0.072045      0.046557       0.013490   \n8 -0.103858  0.130065 -0.020042       0.261288      0.097577      -0.097796   \n9  0.046827  0.041004 -0.020042       0.194621     -0.004464      -0.020598   \n\n   work_class_unknown  work_class_Federal_gov  work_class_Local_gov  \\\n0                   0                       0                     0   \n1                   0                       0                     0   \n2                   0                       0                     0   \n3                   0                       0                     0   \n4                   0                       0                     0   \n5                   0                       0                     0   \n6                   0                       0                     0   \n7                   0                       0                     0   \n8                   0                       0                     0   \n9                   0                       0                     0   \n\n   work_class_Never_worked            ...              \\\n0                        0            ...               \n1                        0            ...               \n2                        0            ...               \n3                        0            ...               \n4                        0            ...               \n5                        0            ...               \n6                        0            ...               \n7                        0            ...               \n8                        0            ...               \n9                        0            ...               \n\n   native_country_Portugal  native_country_Puerto_Rico  \\\n0                        0                           0   \n1                        0                           0   \n2                        0                           0   \n3                        0                           0   \n4                        0                           0   \n5                        0                           0   \n6                        0                           0   \n7                        0                           0   \n8                        0                           0   \n9                        0                           0   \n\n   native_country_Scotland  native_country_South  native_country_Taiwan  \\\n0                        0                     0                      0   \n1                        0                     0                      0   \n2                        0                     0                      0   \n3                        0                     0                      0   \n4                        0                     0                      0   \n5                        0                     0                      0   \n6                        0                     0                      0   \n7                        0                     0                      0   \n8                        0                     0                      0   \n9                        0                     0                      0   \n\n   native_country_Thailand  native_country_Trinadad&Tobago  \\\n0                        0                               0   \n1                        0                               0   \n2                        0                               0   \n3                        0                               0   \n4                        0                               0   \n5                        0                               0   \n6                        0                               0   \n7                        0                               0   \n8                        0                               0   \n9                        0                               0   \n\n   native_country_United_States  native_country_Vietnam  \\\n0                             1                       0   \n1                             1                       0   \n2                             1                       0   \n3                             1                       0   \n4                             0                       0   \n5                             1                       0   \n6                             0                       0   \n7                             1                       0   \n8                             1                       0   \n9                             1                       0   \n\n   native_country_Yugoslavia  \n0                          0  \n1                          0  \n2                          0  \n3                          0  \n4                          0  \n5                          0  \n6                          0  \n7                          0  \n8                          0  \n9                          0  \n\n[10 rows x 108 columns]", 
                        "text/html": "<div>\n<table border=\"1\" class=\"dataframe\">\n  <thead>\n    <tr style=\"text-align: right;\">\n      <th></th>\n      <th>age</th>\n      <th>cap_gain</th>\n      <th>cap_loss</th>\n      <th>education_num</th>\n      <th>hrs_per_week</th>\n      <th>sample_weight</th>\n      <th>work_class_unknown</th>\n      <th>work_class_Federal_gov</th>\n      <th>work_class_Local_gov</th>\n      <th>work_class_Never_worked</th>\n      <th>...</th>\n      <th>native_country_Portugal</th>\n      <th>native_country_Puerto_Rico</th>\n      <th>native_country_Scotland</th>\n      <th>native_country_South</th>\n      <th>native_country_Taiwan</th>\n      <th>native_country_Thailand</th>\n      <th>native_country_Trinadad&amp;Tobago</th>\n      <th>native_country_United_States</th>\n      <th>native_country_Vietnam</th>\n      <th>native_country_Yugoslavia</th>\n    </tr>\n  </thead>\n  <tbody>\n    <tr>\n      <th>0</th>\n      <td>0.005731</td>\n      <td>0.010964</td>\n      <td>-0.020042</td>\n      <td>0.194621</td>\n      <td>-0.004464</td>\n      <td>-0.076243</td>\n      <td>0</td>\n      <td>0</td>\n      <td>0</td>\n      <td>0</td>\n      <td>...</td>\n      <td>0</td>\n      <td>0</td>\n      <td>0</td>\n      <td>0</td>\n      <td>0</td>\n      <td>0</td>\n      <td>0</td>\n      <td>1</td>\n      <td>0</td>\n      <td>0</td>\n    </tr>\n    <tr>\n      <th>1</th>\n      <td>0.156416</td>\n      <td>-0.010777</td>\n      <td>-0.020042</td>\n      <td>0.194621</td>\n      <td>-0.279974</td>\n      <td>-0.072308</td>\n      <td>0</td>\n      <td>0</td>\n      <td>0</td>\n      <td>0</td>\n      <td>...</td>\n      <td>0</td>\n      <td>0</td>\n      <td>0</td>\n      <td>0</td>\n      <td>0</td>\n      <td>0</td>\n      <td>0</td>\n      <td>1</td>\n      <td>0</td>\n      <td>0</td>\n    </tr>\n    <tr>\n      <th>2</th>\n      <td>-0.007968</td>\n      <td>-0.010777</td>\n      <td>-0.020042</td>\n      <td>-0.072045</td>\n      <td>-0.004464</td>\n      <td>0.017568</td>\n      <td>0</td>\n      <td>0</td>\n      <td>0</td>\n      <td>0</td>\n      <td>...</td>\n      <td>0</td>\n      <td>0</td>\n      <td>0</td>\n      <td>0</td>\n      <td>0</td>\n      <td>0</td>\n      <td>0</td>\n      <td>1</td>\n      <td>0</td>\n      <td>0</td>\n    </tr>\n    <tr>\n      <th>3</th>\n      <td>0.197512</td>\n      <td>-0.010777</td>\n      <td>-0.020042</td>\n      <td>-0.205379</td>\n      <td>-0.004464</td>\n      <td>0.030523</td>\n      <td>0</td>\n      <td>0</td>\n      <td>0</td>\n      <td>0</td>\n      <td>...</td>\n      <td>0</td>\n      <td>0</td>\n      <td>0</td>\n      <td>0</td>\n      <td>0</td>\n      <td>0</td>\n      <td>0</td>\n      <td>1</td>\n      <td>0</td>\n      <td>0</td>\n    </tr>\n    <tr>\n      <th>4</th>\n      <td>-0.144954</td>\n      <td>-0.010777</td>\n      <td>-0.020042</td>\n      <td>0.194621</td>\n      <td>-0.004464</td>\n      <td>0.100943</td>\n      <td>0</td>\n      <td>0</td>\n      <td>0</td>\n      <td>0</td>\n      <td>...</td>\n      <td>0</td>\n      <td>0</td>\n      <td>0</td>\n      <td>0</td>\n      <td>0</td>\n      <td>0</td>\n      <td>0</td>\n      <td>0</td>\n      <td>0</td>\n      <td>0</td>\n    </tr>\n    <tr>\n      <th>5</th>\n      <td>-0.021666</td>\n      <td>-0.010777</td>\n      <td>-0.020042</td>\n      <td>0.261288</td>\n      <td>-0.004464</td>\n      <td>0.064386</td>\n      <td>0</td>\n      <td>0</td>\n      <td>0</td>\n      <td>0</td>\n      <td>...</td>\n      <td>0</td>\n      <td>0</td>\n      <td>0</td>\n      <td>0</td>\n      <td>0</td>\n      <td>0</td>\n      <td>0</td>\n      <td>1</td>\n      <td>0</td>\n      <td>0</td>\n    </tr>\n    <tr>\n      <th>6</th>\n      <td>0.142717</td>\n      <td>-0.010777</td>\n      <td>-0.020042</td>\n      <td>-0.338712</td>\n      <td>-0.249362</td>\n      <td>-0.020097</td>\n      <td>0</td>\n      <td>0</td>\n      <td>0</td>\n      <td>0</td>\n      <td>...</td>\n      <td>0</td>\n      <td>0</td>\n      <td>0</td>\n      <td>0</td>\n      <td>0</td>\n      <td>0</td>\n      <td>0</td>\n      <td>0</td>\n      <td>0</td>\n      <td>0</td>\n    </tr>\n    <tr>\n      <th>7</th>\n      <td>0.183813</td>\n      <td>-0.010777</td>\n      <td>-0.020042</td>\n      <td>-0.072045</td>\n      <td>0.046557</td>\n      <td>0.013490</td>\n      <td>0</td>\n      <td>0</td>\n      <td>0</td>\n      <td>0</td>\n      <td>...</td>\n      <td>0</td>\n      <td>0</td>\n      <td>0</td>\n      <td>0</td>\n      <td>0</td>\n      <td>0</td>\n      <td>0</td>\n      <td>1</td>\n      <td>0</td>\n      <td>0</td>\n    </tr>\n    <tr>\n      <th>8</th>\n      <td>-0.103858</td>\n      <td>0.130065</td>\n      <td>-0.020042</td>\n      <td>0.261288</td>\n      <td>0.097577</td>\n      <td>-0.097796</td>\n      <td>0</td>\n      <td>0</td>\n      <td>0</td>\n      <td>0</td>\n      <td>...</td>\n      <td>0</td>\n      <td>0</td>\n      <td>0</td>\n      <td>0</td>\n      <td>0</td>\n      <td>0</td>\n      <td>0</td>\n      <td>1</td>\n      <td>0</td>\n      <td>0</td>\n    </tr>\n    <tr>\n      <th>9</th>\n      <td>0.046827</td>\n      <td>0.041004</td>\n      <td>-0.020042</td>\n      <td>0.194621</td>\n      <td>-0.004464</td>\n      <td>-0.020598</td>\n      <td>0</td>\n      <td>0</td>\n      <td>0</td>\n      <td>0</td>\n      <td>...</td>\n      <td>0</td>\n      <td>0</td>\n      <td>0</td>\n      <td>0</td>\n      <td>0</td>\n      <td>0</td>\n      <td>0</td>\n      <td>1</td>\n      <td>0</td>\n      <td>0</td>\n    </tr>\n  </tbody>\n</table>\n<p>10 rows \u00d7 108 columns</p>\n</div>"
                    }
                }
            ], 
            "cell_type": "code", 
            "execution_count": 22, 
            "source": "dfTrainStd = pd.concat([dfTrainContinuousStd, dfTrainCategoricalStd], axis=1)\ndfTrainStd[0:10]"
        }, 
        {
            "metadata": {}, 
            "cell_type": "markdown", 
            "source": "### Create the array of labels"
        }, 
        {
            "metadata": {
                "collapsed": false
            }, 
            "outputs": [], 
            "cell_type": "code", 
            "execution_count": 23, 
            "source": "df_TrainIncomeClass = pd.DataFrame(np.where(dfTrain.income_class == ' >50K', 1, 0))"
        }, 
        {
            "metadata": {
                "collapsed": false
            }, 
            "outputs": [
                {
                    "metadata": {}, 
                    "output_type": "execute_result", 
                    "execution_count": 24, 
                    "data": {
                        "text/plain": "   0\n0  0\n1  0\n2  0\n3  0\n4  0\n5  0\n6  0\n7  1\n8  1\n9  1", 
                        "text/html": "<div>\n<table border=\"1\" class=\"dataframe\">\n  <thead>\n    <tr style=\"text-align: right;\">\n      <th></th>\n      <th>0</th>\n    </tr>\n  </thead>\n  <tbody>\n    <tr>\n      <th>0</th>\n      <td>0</td>\n    </tr>\n    <tr>\n      <th>1</th>\n      <td>0</td>\n    </tr>\n    <tr>\n      <th>2</th>\n      <td>0</td>\n    </tr>\n    <tr>\n      <th>3</th>\n      <td>0</td>\n    </tr>\n    <tr>\n      <th>4</th>\n      <td>0</td>\n    </tr>\n    <tr>\n      <th>5</th>\n      <td>0</td>\n    </tr>\n    <tr>\n      <th>6</th>\n      <td>0</td>\n    </tr>\n    <tr>\n      <th>7</th>\n      <td>1</td>\n    </tr>\n    <tr>\n      <th>8</th>\n      <td>1</td>\n    </tr>\n    <tr>\n      <th>9</th>\n      <td>1</td>\n    </tr>\n  </tbody>\n</table>\n</div>"
                    }
                }
            ], 
            "cell_type": "code", 
            "execution_count": 24, 
            "source": "df_TrainIncomeClass[0:10]"
        }, 
        {
            "metadata": {}, 
            "cell_type": "markdown", 
            "source": "## Standardize values in Test Set"
        }, 
        {
            "metadata": {
                "collapsed": false
            }, 
            "outputs": [], 
            "cell_type": "code", 
            "execution_count": 25, 
            "source": "dfTestContinuous = pd.DataFrame({'age'    : np.float64(dfTest.age), \n                               'cap_loss' : np.float64(dfTest.cap_loss), \n                               'cap_gain' : np.float64(dfTest.cap_gain), \n                               'education_num' : np.float64(dfTest.education_num), \n                               'hrs_per_week'  : np.float64(dfTest.hrs_per_week),\n                               'sample_weight' : np.float64(dfTest.fnlwgt)})\ndfTestContinuousStd = dfTestContinuous.apply(lambda x: (x - np.mean(x)) / ((np.max(x) - np.min(x))))"
        }, 
        {
            "metadata": {
                "collapsed": false
            }, 
            "outputs": [
                {
                    "metadata": {}, 
                    "output_type": "execute_result", 
                    "execution_count": 26, 
                    "data": {
                        "text/plain": "        age  cap_gain  cap_loss  education_num  hrs_per_week  sample_weight\n0 -0.188595 -0.010819 -0.023315      -0.204860     -0.004002       0.025300\n1 -0.010513 -0.010819 -0.023315      -0.071527      0.098038      -0.067453\n2 -0.147499 -0.010819 -0.023315       0.128473     -0.004002       0.099881\n3  0.071679  0.066062 -0.023315      -0.004860     -0.004002      -0.019712\n4 -0.284486 -0.010819 -0.023315      -0.004860     -0.106043      -0.058188", 
                        "text/html": "<div>\n<table border=\"1\" class=\"dataframe\">\n  <thead>\n    <tr style=\"text-align: right;\">\n      <th></th>\n      <th>age</th>\n      <th>cap_gain</th>\n      <th>cap_loss</th>\n      <th>education_num</th>\n      <th>hrs_per_week</th>\n      <th>sample_weight</th>\n    </tr>\n  </thead>\n  <tbody>\n    <tr>\n      <th>0</th>\n      <td>-0.188595</td>\n      <td>-0.010819</td>\n      <td>-0.023315</td>\n      <td>-0.204860</td>\n      <td>-0.004002</td>\n      <td>0.025300</td>\n    </tr>\n    <tr>\n      <th>1</th>\n      <td>-0.010513</td>\n      <td>-0.010819</td>\n      <td>-0.023315</td>\n      <td>-0.071527</td>\n      <td>0.098038</td>\n      <td>-0.067453</td>\n    </tr>\n    <tr>\n      <th>2</th>\n      <td>-0.147499</td>\n      <td>-0.010819</td>\n      <td>-0.023315</td>\n      <td>0.128473</td>\n      <td>-0.004002</td>\n      <td>0.099881</td>\n    </tr>\n    <tr>\n      <th>3</th>\n      <td>0.071679</td>\n      <td>0.066062</td>\n      <td>-0.023315</td>\n      <td>-0.004860</td>\n      <td>-0.004002</td>\n      <td>-0.019712</td>\n    </tr>\n    <tr>\n      <th>4</th>\n      <td>-0.284486</td>\n      <td>-0.010819</td>\n      <td>-0.023315</td>\n      <td>-0.004860</td>\n      <td>-0.106043</td>\n      <td>-0.058188</td>\n    </tr>\n  </tbody>\n</table>\n</div>"
                    }
                }
            ], 
            "cell_type": "code", 
            "execution_count": 26, 
            "source": "dfTestContinuousStd[0:5]"
        }, 
        {
            "metadata": {
                "collapsed": false
            }, 
            "outputs": [
                {
                    "metadata": {}, 
                    "output_type": "execute_result", 
                    "execution_count": 27, 
                    "data": {
                        "text/plain": "   work_class_ ?  work_class_ Federal-gov  work_class_ Local-gov  \\\n0              0                        0                      0   \n1              0                        0                      0   \n2              0                        0                      1   \n3              0                        0                      0   \n4              1                        0                      0   \n\n   work_class_ Never-worked  work_class_ Private  work_class_ Self-emp-inc  \\\n0                         0                    1                         0   \n1                         0                    1                         0   \n2                         0                    0                         0   \n3                         0                    1                         0   \n4                         0                    0                         0   \n\n   work_class_ Self-emp-not-inc  work_class_ State-gov  \\\n0                             0                      0   \n1                             0                      0   \n2                             0                      0   \n3                             0                      0   \n4                             0                      0   \n\n   work_class_ Without-pay  education_ 10th             ...              \\\n0                        0                0             ...               \n1                        0                0             ...               \n2                        0                0             ...               \n3                        0                0             ...               \n4                        0                0             ...               \n\n   native_country_ Portugal  native_country_ Puerto-Rico  \\\n0                         0                            0   \n1                         0                            0   \n2                         0                            0   \n3                         0                            0   \n4                         0                            0   \n\n   native_country_ Scotland  native_country_ South  native_country_ Taiwan  \\\n0                         0                      0                       0   \n1                         0                      0                       0   \n2                         0                      0                       0   \n3                         0                      0                       0   \n4                         0                      0                       0   \n\n   native_country_ Thailand  native_country_ Trinadad&Tobago  \\\n0                         0                                0   \n1                         0                                0   \n2                         0                                0   \n3                         0                                0   \n4                         0                                0   \n\n   native_country_ United-States  native_country_ Vietnam  \\\n0                              1                        0   \n1                              1                        0   \n2                              1                        0   \n3                              1                        0   \n4                              1                        0   \n\n   native_country_ Yugoslavia  \n0                           0  \n1                           0  \n2                           0  \n3                           0  \n4                           0  \n\n[5 rows x 101 columns]", 
                        "text/html": "<div>\n<table border=\"1\" class=\"dataframe\">\n  <thead>\n    <tr style=\"text-align: right;\">\n      <th></th>\n      <th>work_class_ ?</th>\n      <th>work_class_ Federal-gov</th>\n      <th>work_class_ Local-gov</th>\n      <th>work_class_ Never-worked</th>\n      <th>work_class_ Private</th>\n      <th>work_class_ Self-emp-inc</th>\n      <th>work_class_ Self-emp-not-inc</th>\n      <th>work_class_ State-gov</th>\n      <th>work_class_ Without-pay</th>\n      <th>education_ 10th</th>\n      <th>...</th>\n      <th>native_country_ Portugal</th>\n      <th>native_country_ Puerto-Rico</th>\n      <th>native_country_ Scotland</th>\n      <th>native_country_ South</th>\n      <th>native_country_ Taiwan</th>\n      <th>native_country_ Thailand</th>\n      <th>native_country_ Trinadad&amp;Tobago</th>\n      <th>native_country_ United-States</th>\n      <th>native_country_ Vietnam</th>\n      <th>native_country_ Yugoslavia</th>\n    </tr>\n  </thead>\n  <tbody>\n    <tr>\n      <th>0</th>\n      <td>0</td>\n      <td>0</td>\n      <td>0</td>\n      <td>0</td>\n      <td>1</td>\n      <td>0</td>\n      <td>0</td>\n      <td>0</td>\n      <td>0</td>\n      <td>0</td>\n      <td>...</td>\n      <td>0</td>\n      <td>0</td>\n      <td>0</td>\n      <td>0</td>\n      <td>0</td>\n      <td>0</td>\n      <td>0</td>\n      <td>1</td>\n      <td>0</td>\n      <td>0</td>\n    </tr>\n    <tr>\n      <th>1</th>\n      <td>0</td>\n      <td>0</td>\n      <td>0</td>\n      <td>0</td>\n      <td>1</td>\n      <td>0</td>\n      <td>0</td>\n      <td>0</td>\n      <td>0</td>\n      <td>0</td>\n      <td>...</td>\n      <td>0</td>\n      <td>0</td>\n      <td>0</td>\n      <td>0</td>\n      <td>0</td>\n      <td>0</td>\n      <td>0</td>\n      <td>1</td>\n      <td>0</td>\n      <td>0</td>\n    </tr>\n    <tr>\n      <th>2</th>\n      <td>0</td>\n      <td>0</td>\n      <td>1</td>\n      <td>0</td>\n      <td>0</td>\n      <td>0</td>\n      <td>0</td>\n      <td>0</td>\n      <td>0</td>\n      <td>0</td>\n      <td>...</td>\n      <td>0</td>\n      <td>0</td>\n      <td>0</td>\n      <td>0</td>\n      <td>0</td>\n      <td>0</td>\n      <td>0</td>\n      <td>1</td>\n      <td>0</td>\n      <td>0</td>\n    </tr>\n    <tr>\n      <th>3</th>\n      <td>0</td>\n      <td>0</td>\n      <td>0</td>\n      <td>0</td>\n      <td>1</td>\n      <td>0</td>\n      <td>0</td>\n      <td>0</td>\n      <td>0</td>\n      <td>0</td>\n      <td>...</td>\n      <td>0</td>\n      <td>0</td>\n      <td>0</td>\n      <td>0</td>\n      <td>0</td>\n      <td>0</td>\n      <td>0</td>\n      <td>1</td>\n      <td>0</td>\n      <td>0</td>\n    </tr>\n    <tr>\n      <th>4</th>\n      <td>1</td>\n      <td>0</td>\n      <td>0</td>\n      <td>0</td>\n      <td>0</td>\n      <td>0</td>\n      <td>0</td>\n      <td>0</td>\n      <td>0</td>\n      <td>0</td>\n      <td>...</td>\n      <td>0</td>\n      <td>0</td>\n      <td>0</td>\n      <td>0</td>\n      <td>0</td>\n      <td>0</td>\n      <td>0</td>\n      <td>1</td>\n      <td>0</td>\n      <td>0</td>\n    </tr>\n  </tbody>\n</table>\n<p>5 rows \u00d7 101 columns</p>\n</div>"
                    }
                }
            ], 
            "cell_type": "code", 
            "execution_count": 27, 
            "source": "dfTestCategoricalStd = pd.get_dummies(pd.concat([dfTest.work_class, dfTest.education, dfTest.marital_status, dfTest.occupation, dfTest.relationship, dfTest.race, dfTest.sex,\n                          dfTest.native_country], axis=1))\ndfTestCategoricalStd[0:5]"
        }, 
        {
            "metadata": {}, 
            "cell_type": "markdown", 
            "source": "### Clean up the column names"
        }, 
        {
            "metadata": {
                "collapsed": true
            }, 
            "outputs": [], 
            "cell_type": "code", 
            "execution_count": 28, 
            "source": "dfTestCategoricalStd.columns = clean_col_names(list(dfTestCategoricalStd))"
        }, 
        {
            "metadata": {}, 
            "cell_type": "markdown", 
            "source": "### Construct the Test set data frame"
        }, 
        {
            "metadata": {
                "collapsed": false
            }, 
            "outputs": [
                {
                    "metadata": {}, 
                    "output_type": "execute_result", 
                    "execution_count": 29, 
                    "data": {
                        "text/plain": "        age  cap_gain  cap_loss  education_num  hrs_per_week  sample_weight  \\\n0 -0.188595 -0.010819 -0.023315      -0.204860     -0.004002       0.025300   \n1 -0.010513 -0.010819 -0.023315      -0.071527      0.098038      -0.067453   \n2 -0.147499 -0.010819 -0.023315       0.128473     -0.004002       0.099881   \n3  0.071679  0.066062 -0.023315      -0.004860     -0.004002      -0.019712   \n4 -0.284486 -0.010819 -0.023315      -0.004860     -0.106043      -0.058188   \n\n   work_class_unknown  work_class_Federal_gov  work_class_Local_gov  \\\n0                   0                       0                     0   \n1                   0                       0                     0   \n2                   0                       0                     1   \n3                   0                       0                     0   \n4                   1                       0                     0   \n\n   work_class_Never_worked            ...              \\\n0                        0            ...               \n1                        0            ...               \n2                        0            ...               \n3                        0            ...               \n4                        0            ...               \n\n   native_country_Portugal  native_country_Puerto_Rico  \\\n0                        0                           0   \n1                        0                           0   \n2                        0                           0   \n3                        0                           0   \n4                        0                           0   \n\n   native_country_Scotland  native_country_South  native_country_Taiwan  \\\n0                        0                     0                      0   \n1                        0                     0                      0   \n2                        0                     0                      0   \n3                        0                     0                      0   \n4                        0                     0                      0   \n\n   native_country_Thailand  native_country_Trinadad&Tobago  \\\n0                        0                               0   \n1                        0                               0   \n2                        0                               0   \n3                        0                               0   \n4                        0                               0   \n\n   native_country_United_States  native_country_Vietnam  \\\n0                             1                       0   \n1                             1                       0   \n2                             1                       0   \n3                             1                       0   \n4                             1                       0   \n\n   native_country_Yugoslavia  \n0                          0  \n1                          0  \n2                          0  \n3                          0  \n4                          0  \n\n[5 rows x 107 columns]", 
                        "text/html": "<div>\n<table border=\"1\" class=\"dataframe\">\n  <thead>\n    <tr style=\"text-align: right;\">\n      <th></th>\n      <th>age</th>\n      <th>cap_gain</th>\n      <th>cap_loss</th>\n      <th>education_num</th>\n      <th>hrs_per_week</th>\n      <th>sample_weight</th>\n      <th>work_class_unknown</th>\n      <th>work_class_Federal_gov</th>\n      <th>work_class_Local_gov</th>\n      <th>work_class_Never_worked</th>\n      <th>...</th>\n      <th>native_country_Portugal</th>\n      <th>native_country_Puerto_Rico</th>\n      <th>native_country_Scotland</th>\n      <th>native_country_South</th>\n      <th>native_country_Taiwan</th>\n      <th>native_country_Thailand</th>\n      <th>native_country_Trinadad&amp;Tobago</th>\n      <th>native_country_United_States</th>\n      <th>native_country_Vietnam</th>\n      <th>native_country_Yugoslavia</th>\n    </tr>\n  </thead>\n  <tbody>\n    <tr>\n      <th>0</th>\n      <td>-0.188595</td>\n      <td>-0.010819</td>\n      <td>-0.023315</td>\n      <td>-0.204860</td>\n      <td>-0.004002</td>\n      <td>0.025300</td>\n      <td>0</td>\n      <td>0</td>\n      <td>0</td>\n      <td>0</td>\n      <td>...</td>\n      <td>0</td>\n      <td>0</td>\n      <td>0</td>\n      <td>0</td>\n      <td>0</td>\n      <td>0</td>\n      <td>0</td>\n      <td>1</td>\n      <td>0</td>\n      <td>0</td>\n    </tr>\n    <tr>\n      <th>1</th>\n      <td>-0.010513</td>\n      <td>-0.010819</td>\n      <td>-0.023315</td>\n      <td>-0.071527</td>\n      <td>0.098038</td>\n      <td>-0.067453</td>\n      <td>0</td>\n      <td>0</td>\n      <td>0</td>\n      <td>0</td>\n      <td>...</td>\n      <td>0</td>\n      <td>0</td>\n      <td>0</td>\n      <td>0</td>\n      <td>0</td>\n      <td>0</td>\n      <td>0</td>\n      <td>1</td>\n      <td>0</td>\n      <td>0</td>\n    </tr>\n    <tr>\n      <th>2</th>\n      <td>-0.147499</td>\n      <td>-0.010819</td>\n      <td>-0.023315</td>\n      <td>0.128473</td>\n      <td>-0.004002</td>\n      <td>0.099881</td>\n      <td>0</td>\n      <td>0</td>\n      <td>1</td>\n      <td>0</td>\n      <td>...</td>\n      <td>0</td>\n      <td>0</td>\n      <td>0</td>\n      <td>0</td>\n      <td>0</td>\n      <td>0</td>\n      <td>0</td>\n      <td>1</td>\n      <td>0</td>\n      <td>0</td>\n    </tr>\n    <tr>\n      <th>3</th>\n      <td>0.071679</td>\n      <td>0.066062</td>\n      <td>-0.023315</td>\n      <td>-0.004860</td>\n      <td>-0.004002</td>\n      <td>-0.019712</td>\n      <td>0</td>\n      <td>0</td>\n      <td>0</td>\n      <td>0</td>\n      <td>...</td>\n      <td>0</td>\n      <td>0</td>\n      <td>0</td>\n      <td>0</td>\n      <td>0</td>\n      <td>0</td>\n      <td>0</td>\n      <td>1</td>\n      <td>0</td>\n      <td>0</td>\n    </tr>\n    <tr>\n      <th>4</th>\n      <td>-0.284486</td>\n      <td>-0.010819</td>\n      <td>-0.023315</td>\n      <td>-0.004860</td>\n      <td>-0.106043</td>\n      <td>-0.058188</td>\n      <td>1</td>\n      <td>0</td>\n      <td>0</td>\n      <td>0</td>\n      <td>...</td>\n      <td>0</td>\n      <td>0</td>\n      <td>0</td>\n      <td>0</td>\n      <td>0</td>\n      <td>0</td>\n      <td>0</td>\n      <td>1</td>\n      <td>0</td>\n      <td>0</td>\n    </tr>\n  </tbody>\n</table>\n<p>5 rows \u00d7 107 columns</p>\n</div>"
                    }
                }
            ], 
            "cell_type": "code", 
            "execution_count": 29, 
            "source": "dfTestStd = pd.concat([dfTestContinuousStd, dfTestCategoricalStd], axis=1)\ndfTestStd[0:5]"
        }, 
        {
            "metadata": {}, 
            "cell_type": "markdown", 
            "source": "### Ensure that both datasets have the same set of one-hot columns\nNote that the TrainingStd dataset has 108 columns, while TestStd has only 107.  This is because the Training set has one country value not present in the Test set:  'Holand-Netherlands' (sic).  For completeness, we add a dummy column to Test..."
        }, 
        {
            "metadata": {
                "collapsed": true
            }, 
            "outputs": [], 
            "cell_type": "code", 
            "execution_count": 30, 
            "source": "dfTestStd['native_country_Holand_Netherlands'] = 0"
        }, 
        {
            "metadata": {}, 
            "cell_type": "markdown", 
            "source": "### Create the array of Test Labels"
        }, 
        {
            "metadata": {
                "collapsed": true
            }, 
            "outputs": [], 
            "cell_type": "code", 
            "execution_count": 31, 
            "source": "df_TestIncomeClass = pd.DataFrame(np.where(dfTest.income_class == ' >50K', 1, 0))"
        }, 
        {
            "metadata": {
                "collapsed": true
            }, 
            "cell_type": "markdown", 
            "source": "## Write prepared Training and Test sets to Bluemix Object Storage"
        }, 
        {
            "metadata": {
                "collapsed": true
            }, 
            "outputs": [], 
            "cell_type": "code", 
            "execution_count": 32, 
            "source": "# The code was removed by DSX for sharing."
        }, 
        {
            "metadata": {
                "collapsed": true
            }, 
            "outputs": [], 
            "cell_type": "code", 
            "execution_count": 33, 
            "source": "import requests  \nimport json\n\ndef put_file(credentials, local_file_name):  \n    \"\"\"This function writes file content to Object Storage V3 \"\"\"\n    f = open(local_file_name,'r')\n    my_data = f.read()\n    \n    url1 = ''.join(['https://identity.open.softlayer.com', '/v3/auth/tokens'])\n    data = {'auth': {'identity': {'methods': ['password'],\n            'password': {'user': {'name': credentials['username'],'domain': {'id': credentials['domain_id']},\n            'password': credentials['password']}}}}}\n    headers1 = {'Content-Type': 'application/json'}\n    resp1 = requests.post(url=url1, data=json.dumps(data), headers=headers1)\n    resp1_body = resp1.json()\n    \n    for e1 in resp1_body['token']['catalog']:\n        if(e1['type']=='object-store'):\n            for e2 in e1['endpoints']:\n                        if(e2['interface']=='public'and e2['region']=='dallas'):\n                            url2 = ''.join([e2['url'],'/', credentials['container'], '/', local_file_name])\n    s_subject_token = resp1.headers['x-subject-token']\n    headers2 = {'X-Auth-Token': s_subject_token, 'accept': 'text/csv'}\n    resp2 = requests.put(url=url2, headers=headers2, data = my_data )\n    return resp2"
        }, 
        {
            "metadata": {
                "collapsed": true
            }, 
            "cell_type": "markdown", 
            "source": "### Save data to local storage"
        }, 
        {
            "metadata": {
                "collapsed": true
            }, 
            "outputs": [], 
            "cell_type": "code", 
            "execution_count": 34, 
            "source": "# index=False tells the writer to ignore the dataframe index column when writing out the data\ndfTrainStd.to_csv('TrainStd.csv', index=False)\ndfTestStd.to_csv('TestStd.csv', index=False)\n\n# save the labels, too\ndf_TrainIncomeClass.to_csv( 'TrainIncomeClassLabels.csv', index=False)\ndf_TestIncomeClass.to_csv('TestIncomeClassLabels.csv', index=False)"
        }, 
        {
            "metadata": {}, 
            "cell_type": "markdown", 
            "source": "### Write the data to Bluemix Object Store\nNote HTTP response code 201 means the operation completed successfully and a new resource was created on the server."
        }, 
        {
            "metadata": {
                "collapsed": false
            }, 
            "outputs": [
                {
                    "output_type": "stream", 
                    "text": "<Response [201]>\n", 
                    "name": "stdout"
                }
            ], 
            "cell_type": "code", 
            "execution_count": 35, 
            "source": "resp = put_file( credentials, 'TrainStd.csv')\nprint resp"
        }, 
        {
            "metadata": {
                "collapsed": false
            }, 
            "outputs": [
                {
                    "output_type": "stream", 
                    "text": "<Response [201]>\n", 
                    "name": "stdout"
                }
            ], 
            "cell_type": "code", 
            "execution_count": 36, 
            "source": "resp = put_file( credentials, 'TestStd.csv')\nprint resp"
        }, 
        {
            "metadata": {
                "collapsed": false
            }, 
            "outputs": [
                {
                    "output_type": "stream", 
                    "text": "<Response [201]>\n", 
                    "name": "stdout"
                }
            ], 
            "cell_type": "code", 
            "execution_count": 37, 
            "source": "resp = put_file( credentials, 'TestIncomeClassLabels.csv')\nprint resp"
        }, 
        {
            "metadata": {
                "collapsed": false
            }, 
            "outputs": [
                {
                    "output_type": "stream", 
                    "text": "<Response [201]>\n", 
                    "name": "stdout"
                }
            ], 
            "cell_type": "code", 
            "execution_count": 38, 
            "source": "resp = put_file( credentials, 'TrainIncomeClassLabels.csv')\nprint resp\n"
        }, 
        {
            "metadata": {}, 
            "cell_type": "markdown", 
            "source": "#### The following cell is for debugging ..."
        }, 
        {
            "metadata": {
                "collapsed": false
            }, 
            "outputs": [
                {
                    "output_type": "stream", 
                    "text": "age,cap_gain,cap_loss,education_num,hrs_per_week,sample_weight,work_class_unknown,work_class_Federal_gov,work_class_Local_gov,work_class_Never_worked,work_class_Private,work_class_Self_emp_inc,work_class_Self_emp_not_inc,work_class_State_gov,work_class_Without_pay,education_10th,education_11th,education_12th,education_1st_4th,education_5th_6th,education_7th_8th,education_9th,education_Assoc_acdm,education_Assoc_voc,education_Bachelors,education_Doctorate,education_HS_grad,education_Masters,education_Preschool,education_Prof_school,education_Some_college,marital_status_Divorced,marital_status_Married_AF_spouse,marital_status_Married_civ_spouse,marital_status_Married_spouse_absent,marital_status_Never_married,marital_status_Separated,marital_status_Widowed,occupation_unknown,occupation_Adm_clerical,occupation_Armed_Forces,occupation_Craft_repair,occupation_Exec_managerial,occupation_Farming_fishing,occupation_Handlers_cleaners,occupation_Machine_op_inspct,occupation_Other_service,occupation_Priv_house_serv,occupation_Prof_specialty,occupation_Protective_serv,occupation_Sales,occupation_Tech_support,occupation_Transport_moving,relationship_Husband,relationship_Not_in_family,relationship_Other_relative,relationship_Own_child,relationship_Unmarried,relationship_Wife,race_Amer_Indian_Eskimo,race_Asian_Pac_Islander,race_Black,race_Other,race_White,sex_Female,sex_Male,native_country_unknown,native_country_Cambodia,native_country_Canada,native_country_China,native_country_Columbia,native_country_Cuba,native_country_Dominican_Republic,native_country_Ecuador,native_country_El_Salvador,native_country_England,native_country_France,native_country_Germany,native_country_Greece,native_country_Guatemala,native_country_Haiti,native_country_Honduras,native_country_Hong,native_country_Hungary,native_country_India,native_country_Iran,native_country_Ireland,native_country_Italy,native_country_Jamaica,native_country_Japan,native_country_Laos,native_country_Mexico,native_country_Nicaragua,native_country_Outlying_US_Guam_USVI_etc_,native_country_Peru,native_country_Philippines,native_country_Poland,native_country_Portugal,native_country_Puerto_Rico,native_country_Scotland,native_country_South,native_country_Taiwan,native_country_Thailand,native_country_Trinadad&Tobago,native_country_United_States,native_country_Vietnam,native_country_Yugoslavia,native_country_Holand_Netherlands\n\n---\n-0.188595328785,-0.0108191592327,-0.0233154559912,-0.204860471306,-0.0040024117257,0.0253003722751,0.0,0.0,0.0,0.0,1.0,0.0,0.0,0.0,0.0,0.0,1.0,0.0,0.0,0.0,0.0,0.0,0.0,0.0,0.0,0.0,0.0,0.0,0.0,0.0,0.0,0.0,0.0,0.0,0.0,1.0,0.0,0.0,0.0,0.0,0.0,0.0,0.0,0.0,0.0,1.0,0.0,0.0,0.0,0.0,0.0,0.0,0.0,0.0,0.0,0.0,1.0,0.0,0.0,0.0,0.0,1.0,0.0,0.0,0.0,1.0,0.0,0.0,0.0,0.0,0.0,0.0,0.0,0.0,0.0,0.0,0.0,0.0,0.0,0.0,0.0,0.0,0.0,0.0,0.0,0.0,0.0,0.0,0.0,0.0,0.0,0.0,0.0,0.0,0.0,0.0,0.0,0.0,0.0,0.0,0.0,0.0,0.0,0.0,1.0,0.0,0.0,0\n\n", 
                    "name": "stdout"
                }
            ], 
            "cell_type": "code", 
            "execution_count": 39, 
            "source": "with open('TestStd.csv', 'rb') as f:\n    x = f.readline()\n    print x\n    x = f.readline()\n    print '---'\n    print x"
        }, 
        {
            "metadata": {
                "collapsed": true
            }, 
            "outputs": [], 
            "cell_type": "code", 
            "execution_count": null, 
            "source": ""
        }
    ], 
    "nbformat_minor": 0
}